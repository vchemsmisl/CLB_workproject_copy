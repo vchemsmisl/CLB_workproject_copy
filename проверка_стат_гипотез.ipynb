{
  "nbformat": 4,
  "nbformat_minor": 0,
  "metadata": {
    "colab": {
      "provenance": [],
      "toc_visible": true
    },
    "kernelspec": {
      "name": "python3",
      "display_name": "Python 3"
    },
    "language_info": {
      "name": "python"
    }
  },
  "cells": [
    {
      "cell_type": "markdown",
      "source": [
        "# Данные по афазии"
      ],
      "metadata": {
        "id": "KhUZTUiaOiTH"
      }
    },
    {
      "cell_type": "code",
      "source": [
        "import pandas as pd\n",
        "import matplotlib.pyplot as plt\n",
        "from scipy.stats import ttest_ind\n",
        "from scipy.stats import mannwhitneyu\n",
        "from scipy.stats import ttest_rel"
      ],
      "metadata": {
        "id": "7CBYMAU2SVeQ"
      },
      "execution_count": null,
      "outputs": []
    },
    {
      "cell_type": "markdown",
      "source": [
        "### загрузка данных"
      ],
      "metadata": {
        "id": "cB_fbMDRR-Os"
      }
    },
    {
      "cell_type": "code",
      "execution_count": null,
      "metadata": {
        "id": "a1UhUYg5R6X-",
        "colab": {
          "base_uri": "https://localhost:8080/",
          "height": 356
        },
        "outputId": "266286dd-2744-4ad6-ffc8-63701548e6e1"
      },
      "outputs": [
        {
          "output_type": "error",
          "ename": "FileNotFoundError",
          "evalue": "[Errno 2] No such file or directory: '/content/Копия_clusters_dataset.xlsx'",
          "traceback": [
            "\u001b[0;31m---------------------------------------------------------------------------\u001b[0m",
            "\u001b[0;31mFileNotFoundError\u001b[0m                         Traceback (most recent call last)",
            "\u001b[0;32m<ipython-input-19-ec54255bd88d>\u001b[0m in \u001b[0;36m<cell line: 1>\u001b[0;34m()\u001b[0m\n\u001b[0;32m----> 1\u001b[0;31m df_healthy = pd.read_excel('/content/Копия_clusters_dataset.xlsx',\n\u001b[0m\u001b[1;32m      2\u001b[0m                            sheet_name='healthy_all')\n\u001b[1;32m      3\u001b[0m df_aphasia = pd.read_excel('/content/Копия_clusters_dataset.xlsx',\n\u001b[1;32m      4\u001b[0m                            sheet_name='aphasia_all')\n",
            "\u001b[0;32m/usr/local/lib/python3.10/dist-packages/pandas/io/excel/_base.py\u001b[0m in \u001b[0;36mread_excel\u001b[0;34m(io, sheet_name, header, names, index_col, usecols, dtype, engine, converters, true_values, false_values, skiprows, nrows, na_values, keep_default_na, na_filter, verbose, parse_dates, date_parser, date_format, thousands, decimal, comment, skipfooter, storage_options, dtype_backend, engine_kwargs)\u001b[0m\n\u001b[1;32m    502\u001b[0m     \u001b[0;32mif\u001b[0m \u001b[0;32mnot\u001b[0m \u001b[0misinstance\u001b[0m\u001b[0;34m(\u001b[0m\u001b[0mio\u001b[0m\u001b[0;34m,\u001b[0m \u001b[0mExcelFile\u001b[0m\u001b[0;34m)\u001b[0m\u001b[0;34m:\u001b[0m\u001b[0;34m\u001b[0m\u001b[0;34m\u001b[0m\u001b[0m\n\u001b[1;32m    503\u001b[0m         \u001b[0mshould_close\u001b[0m \u001b[0;34m=\u001b[0m \u001b[0;32mTrue\u001b[0m\u001b[0;34m\u001b[0m\u001b[0;34m\u001b[0m\u001b[0m\n\u001b[0;32m--> 504\u001b[0;31m         io = ExcelFile(\n\u001b[0m\u001b[1;32m    505\u001b[0m             \u001b[0mio\u001b[0m\u001b[0;34m,\u001b[0m\u001b[0;34m\u001b[0m\u001b[0;34m\u001b[0m\u001b[0m\n\u001b[1;32m    506\u001b[0m             \u001b[0mstorage_options\u001b[0m\u001b[0;34m=\u001b[0m\u001b[0mstorage_options\u001b[0m\u001b[0;34m,\u001b[0m\u001b[0;34m\u001b[0m\u001b[0;34m\u001b[0m\u001b[0m\n",
            "\u001b[0;32m/usr/local/lib/python3.10/dist-packages/pandas/io/excel/_base.py\u001b[0m in \u001b[0;36m__init__\u001b[0;34m(self, path_or_buffer, engine, storage_options, engine_kwargs)\u001b[0m\n\u001b[1;32m   1561\u001b[0m                 \u001b[0mext\u001b[0m \u001b[0;34m=\u001b[0m \u001b[0;34m\"xls\"\u001b[0m\u001b[0;34m\u001b[0m\u001b[0;34m\u001b[0m\u001b[0m\n\u001b[1;32m   1562\u001b[0m             \u001b[0;32melse\u001b[0m\u001b[0;34m:\u001b[0m\u001b[0;34m\u001b[0m\u001b[0;34m\u001b[0m\u001b[0m\n\u001b[0;32m-> 1563\u001b[0;31m                 ext = inspect_excel_format(\n\u001b[0m\u001b[1;32m   1564\u001b[0m                     \u001b[0mcontent_or_path\u001b[0m\u001b[0;34m=\u001b[0m\u001b[0mpath_or_buffer\u001b[0m\u001b[0;34m,\u001b[0m \u001b[0mstorage_options\u001b[0m\u001b[0;34m=\u001b[0m\u001b[0mstorage_options\u001b[0m\u001b[0;34m\u001b[0m\u001b[0;34m\u001b[0m\u001b[0m\n\u001b[1;32m   1565\u001b[0m                 )\n",
            "\u001b[0;32m/usr/local/lib/python3.10/dist-packages/pandas/io/excel/_base.py\u001b[0m in \u001b[0;36minspect_excel_format\u001b[0;34m(content_or_path, storage_options)\u001b[0m\n\u001b[1;32m   1417\u001b[0m         \u001b[0mcontent_or_path\u001b[0m \u001b[0;34m=\u001b[0m \u001b[0mBytesIO\u001b[0m\u001b[0;34m(\u001b[0m\u001b[0mcontent_or_path\u001b[0m\u001b[0;34m)\u001b[0m\u001b[0;34m\u001b[0m\u001b[0;34m\u001b[0m\u001b[0m\n\u001b[1;32m   1418\u001b[0m \u001b[0;34m\u001b[0m\u001b[0m\n\u001b[0;32m-> 1419\u001b[0;31m     with get_handle(\n\u001b[0m\u001b[1;32m   1420\u001b[0m         \u001b[0mcontent_or_path\u001b[0m\u001b[0;34m,\u001b[0m \u001b[0;34m\"rb\"\u001b[0m\u001b[0;34m,\u001b[0m \u001b[0mstorage_options\u001b[0m\u001b[0;34m=\u001b[0m\u001b[0mstorage_options\u001b[0m\u001b[0;34m,\u001b[0m \u001b[0mis_text\u001b[0m\u001b[0;34m=\u001b[0m\u001b[0;32mFalse\u001b[0m\u001b[0;34m\u001b[0m\u001b[0;34m\u001b[0m\u001b[0m\n\u001b[1;32m   1421\u001b[0m     ) as handle:\n",
            "\u001b[0;32m/usr/local/lib/python3.10/dist-packages/pandas/io/common.py\u001b[0m in \u001b[0;36mget_handle\u001b[0;34m(path_or_buf, mode, encoding, compression, memory_map, is_text, errors, storage_options)\u001b[0m\n\u001b[1;32m    870\u001b[0m         \u001b[0;32melse\u001b[0m\u001b[0;34m:\u001b[0m\u001b[0;34m\u001b[0m\u001b[0;34m\u001b[0m\u001b[0m\n\u001b[1;32m    871\u001b[0m             \u001b[0;31m# Binary mode\u001b[0m\u001b[0;34m\u001b[0m\u001b[0;34m\u001b[0m\u001b[0m\n\u001b[0;32m--> 872\u001b[0;31m             \u001b[0mhandle\u001b[0m \u001b[0;34m=\u001b[0m \u001b[0mopen\u001b[0m\u001b[0;34m(\u001b[0m\u001b[0mhandle\u001b[0m\u001b[0;34m,\u001b[0m \u001b[0mioargs\u001b[0m\u001b[0;34m.\u001b[0m\u001b[0mmode\u001b[0m\u001b[0;34m)\u001b[0m\u001b[0;34m\u001b[0m\u001b[0;34m\u001b[0m\u001b[0m\n\u001b[0m\u001b[1;32m    873\u001b[0m         \u001b[0mhandles\u001b[0m\u001b[0;34m.\u001b[0m\u001b[0mappend\u001b[0m\u001b[0;34m(\u001b[0m\u001b[0mhandle\u001b[0m\u001b[0;34m)\u001b[0m\u001b[0;34m\u001b[0m\u001b[0;34m\u001b[0m\u001b[0m\n\u001b[1;32m    874\u001b[0m \u001b[0;34m\u001b[0m\u001b[0m\n",
            "\u001b[0;31mFileNotFoundError\u001b[0m: [Errno 2] No such file or directory: '/content/Копия_clusters_dataset.xlsx'"
          ]
        }
      ],
      "source": [
        "df_healthy = pd.read_excel('/content/Копия_clusters_dataset.xlsx',\n",
        "                           sheet_name='healthy_all')\n",
        "df_aphasia = pd.read_excel('/content/Копия_clusters_dataset.xlsx',\n",
        "                           sheet_name='aphasia_all')"
      ]
    },
    {
      "cell_type": "code",
      "source": [
        "df_aphasia = df_aphasia.iloc[:68]"
      ],
      "metadata": {
        "id": "0kjvrIXMZaal"
      },
      "execution_count": null,
      "outputs": []
    },
    {
      "cell_type": "code",
      "source": [],
      "metadata": {
        "id": "S1gsYARTcvdB"
      },
      "execution_count": null,
      "outputs": []
    },
    {
      "cell_type": "code",
      "source": [
        "df_healthy = df_healthy.iloc[:94]"
      ],
      "metadata": {
        "id": "QRGxojjmZ2Mf"
      },
      "execution_count": null,
      "outputs": []
    },
    {
      "cell_type": "markdown",
      "source": [
        "### различия между нормой и афазией"
      ],
      "metadata": {
        "id": "JQ_8DvYocqiu"
      }
    },
    {
      "cell_type": "markdown",
      "source": [
        "размер кластеров"
      ],
      "metadata": {
        "id": "oeGJBpSThqpy"
      }
    },
    {
      "cell_type": "code",
      "source": [
        "plt.hist(df_healthy.Mean_cluster_size)\n",
        "plt.show()"
      ],
      "metadata": {
        "colab": {
          "base_uri": "https://localhost:8080/",
          "height": 430
        },
        "id": "K5wwaG3Lhto7",
        "outputId": "53a03608-63c0-46ca-cf0e-ba3126888f24"
      },
      "execution_count": null,
      "outputs": [
        {
          "output_type": "display_data",
          "data": {
            "text/plain": [
              "<Figure size 640x480 with 1 Axes>"
            ],
            "image/png": "[encoded data removed]"
          },
          "metadata": {}
        }
      ]
    },
    {
      "cell_type": "code",
      "source": [
        "plt.hist(df_aphasia.Mean_cluster_size)\n",
        "plt.show()"
      ],
      "metadata": {
        "colab": {
          "base_uri": "https://localhost:8080/",
          "height": 430
        },
        "id": "sZNQLOV6hz68",
        "outputId": "8c5e5731-dc4c-4635-e90c-298e12838be8"
      },
      "execution_count": null,
      "outputs": [
        {
          "output_type": "display_data",
          "data": {
            "text/plain": [
              "<Figure size 640x480 with 1 Axes>"
            ],
            "image/png": "[encoded data removed]"
          },
          "metadata": {}
        }
      ]
    },
    {
      "cell_type": "code",
      "source": [
        "# распределения нормальные (близки к нормальным), поэтому берём t-критерий Стьюдента\n",
        "# H0 - средние выборок равны"
      ],
      "metadata": {
        "id": "Dvm6UXAth58q"
      },
      "execution_count": null,
      "outputs": []
    },
    {
      "cell_type": "code",
      "source": [
        "t_test, p = ttest_ind(df_healthy.Mean_cluster_size, df_aphasia.Mean_cluster_size)\n",
        "print(f'statistic: {t_test}, p-value: {p}')"
      ],
      "metadata": {
        "colab": {
          "base_uri": "https://localhost:8080/"
        },
        "id": "xOIDXH6jh6cf",
        "outputId": "edd7181d-4981-43e5-ddc9-0bf73526dc3c"
      },
      "execution_count": null,
      "outputs": [
        {
          "output_type": "stream",
          "name": "stdout",
          "text": [
            "statistic: 1.072319555088662, p-value: 0.285191245908281\n"
          ]
        }
      ]
    },
    {
      "cell_type": "code",
      "source": [
        "alpha = 0.05\n",
        "if p > alpha:\n",
        "    print('Same distributions (H0)')\n",
        "else:\n",
        "    print('Different distributions (reject H0)')"
      ],
      "metadata": {
        "colab": {
          "base_uri": "https://localhost:8080/"
        },
        "id": "I_QFZW8Rh-9U",
        "outputId": "22c227c1-d0eb-4b30-8f86-57c885b29fce"
      },
      "execution_count": null,
      "outputs": [
        {
          "output_type": "stream",
          "name": "stdout",
          "text": [
            "Same distributions (H0)\n"
          ]
        }
      ]
    },
    {
      "cell_type": "markdown",
      "source": [
        "кол-во свитчей"
      ],
      "metadata": {
        "id": "ovcr7nqvWEYe"
      }
    },
    {
      "cell_type": "code",
      "source": [
        "plt.hist(df_healthy.Avg_switch_number)\n",
        "plt.show()"
      ],
      "metadata": {
        "colab": {
          "base_uri": "https://localhost:8080/",
          "height": 430
        },
        "id": "PGkp55JGV7Py",
        "outputId": "f6eccdf7-2e6a-43b8-af94-857a49247f92"
      },
      "execution_count": null,
      "outputs": [
        {
          "output_type": "display_data",
          "data": {
            "text/plain": [
              "<Figure size 640x480 with 1 Axes>"
            ],
            "image/png": "[encoded data removed]"
          },
          "metadata": {}
        }
      ]
    },
    {
      "cell_type": "code",
      "source": [
        "plt.hist(df_aphasia.Avg_switch_number)\n",
        "plt.show()"
      ],
      "metadata": {
        "colab": {
          "base_uri": "https://localhost:8080/",
          "height": 430
        },
        "id": "K4k0uYdHW-Nh",
        "outputId": "70c66722-cf7a-4f72-c099-ad8fdc217885"
      },
      "execution_count": null,
      "outputs": [
        {
          "output_type": "display_data",
          "data": {
            "text/plain": [
              "<Figure size 640x480 with 1 Axes>"
            ],
            "image/png": "[encoded data removed]"
          },
          "metadata": {}
        }
      ]
    },
    {
      "cell_type": "code",
      "source": [
        "# распределения нормальные (близки к нормальным), поэтому берём t-критерий Стьюдента\n",
        "# H0 - средние выборок равны"
      ],
      "metadata": {
        "id": "uDUPzwxYZEv5"
      },
      "execution_count": null,
      "outputs": []
    },
    {
      "cell_type": "code",
      "source": [
        "t_test, p = ttest_ind(df_healthy.Avg_switch_number, df_aphasia.Avg_switch_number)\n",
        "print(f'statistic: {t_test}, p-value: {p}')"
      ],
      "metadata": {
        "colab": {
          "base_uri": "https://localhost:8080/"
        },
        "id": "huESUICSXGRT",
        "outputId": "27b2c2d1-61aa-4bf5-fbda-8c87c980f309"
      },
      "execution_count": null,
      "outputs": [
        {
          "output_type": "stream",
          "name": "stdout",
          "text": [
            "statistic: 10.17586404392428, p-value: 4.5583124566748045e-19\n"
          ]
        }
      ]
    },
    {
      "cell_type": "code",
      "source": [
        "alpha = 0.05\n",
        "if p > alpha:\n",
        "    print('Same distributions (H0)')\n",
        "else:\n",
        "    print('Different distributions (reject H0)')"
      ],
      "metadata": {
        "colab": {
          "base_uri": "https://localhost:8080/"
        },
        "id": "YijorMOBaPdt",
        "outputId": "10f4303e-c656-4b84-e940-c77c6edf3198"
      },
      "execution_count": null,
      "outputs": [
        {
          "output_type": "stream",
          "name": "stdout",
          "text": [
            "Different distributions (reject H0)\n"
          ]
        }
      ]
    },
    {
      "cell_type": "markdown",
      "source": [
        "t-score"
      ],
      "metadata": {
        "id": "MeFcdUsUaWJ8"
      }
    },
    {
      "cell_type": "code",
      "source": [
        "plt.hist(df_healthy.Average_cluster_t_score)\n",
        "plt.show()"
      ],
      "metadata": {
        "colab": {
          "base_uri": "https://localhost:8080/",
          "height": 430
        },
        "id": "5Y50FGmCaYdn",
        "outputId": "682e29a2-ed4d-4e40-9b19-dc397f0b62b8"
      },
      "execution_count": null,
      "outputs": [
        {
          "output_type": "display_data",
          "data": {
            "text/plain": [
              "<Figure size 640x480 with 1 Axes>"
            ],
            "image/png": "[encoded data removed]"
          },
          "metadata": {}
        }
      ]
    },
    {
      "cell_type": "code",
      "source": [
        "plt.hist(df_aphasia.Average_cluster_t_score)\n",
        "plt.show()"
      ],
      "metadata": {
        "colab": {
          "base_uri": "https://localhost:8080/",
          "height": 430
        },
        "id": "oYFjOr77a7tZ",
        "outputId": "b56558c0-8f17-42d3-ac1e-107ea1eea666"
      },
      "execution_count": null,
      "outputs": [
        {
          "output_type": "display_data",
          "data": {
            "text/plain": [
              "<Figure size 640x480 with 1 Axes>"
            ],
            "image/png": "[encoded data removed]"
          },
          "metadata": {}
        }
      ]
    },
    {
      "cell_type": "code",
      "source": [
        "# распределения нормальные (близки к нормальным), поэтому берём t-критерий Стьюдента\n",
        "# H0 - средние выборок равны"
      ],
      "metadata": {
        "id": "HaDdW32ObqTd"
      },
      "execution_count": null,
      "outputs": []
    },
    {
      "cell_type": "code",
      "source": [
        "t_test, p = ttest_ind(df_healthy.Average_cluster_t_score, df_aphasia.Average_cluster_t_score)\n",
        "print(f'statistic: {t_test}, p-value: {p}')"
      ],
      "metadata": {
        "colab": {
          "base_uri": "https://localhost:8080/"
        },
        "id": "C9pNpSLHbw4R",
        "outputId": "ee0b016d-0861-4225-88ea-6e2ce9989dc1"
      },
      "execution_count": null,
      "outputs": [
        {
          "output_type": "stream",
          "name": "stdout",
          "text": [
            "statistic: 14.507723707344793, p-value: 5.609725990995729e-31\n"
          ]
        }
      ]
    },
    {
      "cell_type": "code",
      "source": [
        "alpha = 0.05\n",
        "if p > alpha:\n",
        "    print('Same distributions (H0)')\n",
        "else:\n",
        "    print('Different distributions (reject H0)')"
      ],
      "metadata": {
        "colab": {
          "base_uri": "https://localhost:8080/"
        },
        "id": "6BAX_pD_cCAj",
        "outputId": "35825626-6e0e-4b13-ebf7-a68210f807e1"
      },
      "execution_count": null,
      "outputs": [
        {
          "output_type": "stream",
          "name": "stdout",
          "text": [
            "Different distributions (reject H0)\n"
          ]
        }
      ]
    },
    {
      "cell_type": "markdown",
      "source": [
        "silhouette-score"
      ],
      "metadata": {
        "id": "CtiYek5jcK27"
      }
    },
    {
      "cell_type": "code",
      "source": [
        "plt.hist(df_healthy.Average_silhouette_score)\n",
        "plt.show()"
      ],
      "metadata": {
        "colab": {
          "base_uri": "https://localhost:8080/",
          "height": 432
        },
        "id": "c3ivPjPYcKh-",
        "outputId": "8e8e467e-7696-4feb-9e5e-cc1a344f0f51"
      },
      "execution_count": null,
      "outputs": [
        {
          "output_type": "display_data",
          "data": {
            "text/plain": [
              "<Figure size 640x480 with 1 Axes>"
            ],
            "image/png": "[encoded data removed]"
          },
          "metadata": {}
        }
      ]
    },
    {
      "cell_type": "code",
      "source": [
        "plt.hist(df_aphasia.Average_silhouette_score)\n",
        "plt.show()"
      ],
      "metadata": {
        "colab": {
          "base_uri": "https://localhost:8080/",
          "height": 430
        },
        "id": "w9GCAxs8c94k",
        "outputId": "dd2001b3-243c-43f1-a3ea-d09b22017cfa"
      },
      "execution_count": null,
      "outputs": [
        {
          "output_type": "display_data",
          "data": {
            "text/plain": [
              "<Figure size 640x480 with 1 Axes>"
            ],
            "image/png": "[encoded data removed]"
          },
          "metadata": {}
        }
      ]
    },
    {
      "cell_type": "code",
      "source": [
        "# распределения разные, поэтому берём критерий U-Манна Уитни\n",
        "# H0 - выборки взяты из одного и того же распределения"
      ],
      "metadata": {
        "id": "FZPN-pRYdI6I"
      },
      "execution_count": null,
      "outputs": []
    },
    {
      "cell_type": "code",
      "source": [
        "u_test, p = mannwhitneyu(df_healthy.Average_cluster_t_score, df_aphasia.Average_cluster_t_score)\n",
        "print(f'statistic: {u_test}, p-value: {p}')"
      ],
      "metadata": {
        "colab": {
          "base_uri": "https://localhost:8080/"
        },
        "id": "9RMVdgtHd3mq",
        "outputId": "fbd054c7-9438-4d2b-fa99-b22f434eaa35"
      },
      "execution_count": null,
      "outputs": [
        {
          "output_type": "stream",
          "name": "stdout",
          "text": [
            "statistic: 6088.0, p-value: 9.898488587458599e-23\n"
          ]
        }
      ]
    },
    {
      "cell_type": "code",
      "source": [
        "alpha = 0.05\n",
        "if p > alpha:\n",
        "    print('Same distributions (H0)')\n",
        "else:\n",
        "    print('Different distributions (reject H0)')"
      ],
      "metadata": {
        "colab": {
          "base_uri": "https://localhost:8080/"
        },
        "id": "lBZWFcRFeLSP",
        "outputId": "7278f820-5e54-4315-dec0-22f03c880fe2"
      },
      "execution_count": null,
      "outputs": [
        {
          "output_type": "stream",
          "name": "stdout",
          "text": [
            "Different distributions (reject H0)\n"
          ]
        }
      ]
    },
    {
      "cell_type": "markdown",
      "source": [
        "### отличия метрик по категории \"профессии\""
      ],
      "metadata": {
        "id": "SQFWZJDAelRi"
      }
    },
    {
      "cell_type": "markdown",
      "source": [
        "t-score - проверяем попарно между всеми категориями"
      ],
      "metadata": {
        "id": "mVShjOe4es4X"
      }
    },
    {
      "cell_type": "code",
      "source": [
        "# между категориями \"города\" и \"животные\"\n",
        "t_test, p = ttest_rel(df_healthy.Mean_cluster_t_score_animals, df_healthy.Mean_cluster_t_score_cities)\n",
        "print(f'statistic: {u_test}, p-value: {p}')\n",
        "alpha = 0.05\n",
        "if p > alpha:\n",
        "    print('Same distributions (H0)')\n",
        "else:\n",
        "    print('Different distributions (reject H0)')"
      ],
      "metadata": {
        "colab": {
          "base_uri": "https://localhost:8080/"
        },
        "id": "Imqru5RMerQv",
        "outputId": "6dcbb7e2-4f84-4221-8898-106a6b1a09fa"
      },
      "execution_count": null,
      "outputs": [
        {
          "output_type": "stream",
          "name": "stdout",
          "text": [
            "statistic: 6088.0, p-value: 1.7613288740905845e-11\n",
            "Different distributions (reject H0)\n"
          ]
        }
      ]
    },
    {
      "cell_type": "code",
      "source": [
        "# между категориями \"профессии\" и \"животные\"\n",
        "t_test, p = ttest_rel(df_healthy.Mean_cluster_t_score_animals, df_healthy.Mean_cluster_t_score_professions)\n",
        "print(f'statistic: {u_test}, p-value: {p}')\n",
        "alpha = 0.05\n",
        "if p > alpha:\n",
        "    print('Same distributions (H0)')\n",
        "else:\n",
        "    print('Different distributions (reject H0)')"
      ],
      "metadata": {
        "colab": {
          "base_uri": "https://localhost:8080/"
        },
        "id": "1lliHqncgHYD",
        "outputId": "f36c8dba-1748-4a15-c137-8693f22f74bb"
      },
      "execution_count": null,
      "outputs": [
        {
          "output_type": "stream",
          "name": "stdout",
          "text": [
            "statistic: 6088.0, p-value: 2.2538163712931107e-28\n",
            "Different distributions (reject H0)\n"
          ]
        }
      ]
    },
    {
      "cell_type": "code",
      "source": [
        "# между категориями \"города\" и \"профессии\"\n",
        "t_test, p = ttest_rel(df_healthy.Mean_cluster_t_score_professions, df_healthy.Mean_cluster_t_score_cities)\n",
        "print(f'statistic: {u_test}, p-value: {p}')\n",
        "alpha = 0.05\n",
        "if p > alpha:\n",
        "    print('Same distributions (H0)')\n",
        "else:\n",
        "    print('Different distributions (reject H0)')"
      ],
      "metadata": {
        "colab": {
          "base_uri": "https://localhost:8080/"
        },
        "id": "Wu6S5_yKgN4h",
        "outputId": "00a1230c-d6f6-4b18-d6a2-dc79be115556"
      },
      "execution_count": null,
      "outputs": [
        {
          "output_type": "stream",
          "name": "stdout",
          "text": [
            "statistic: 6088.0, p-value: 2.6750776286951394e-14\n",
            "Different distributions (reject H0)\n"
          ]
        }
      ]
    },
    {
      "cell_type": "markdown",
      "source": [
        "# Данные по ПР: тексты"
      ],
      "metadata": {
        "id": "8G-AquTCOm3J"
      }
    },
    {
      "cell_type": "code",
      "source": [
        "import pandas as pd\n",
        "import matplotlib.pyplot as plt\n",
        "\n",
        "from scipy.stats import ttest_ind\n",
        "from scipy.stats import mannwhitneyu\n",
        "from scipy.stats import ttest_rel\n",
        "\n"
      ],
      "metadata": {
        "id": "jY21zT6Jfb0I"
      },
      "execution_count": null,
      "outputs": []
    },
    {
      "cell_type": "markdown",
      "source": [
        "### загрузка данных"
      ],
      "metadata": {
        "id": "fFEcnsawPGKz"
      }
    },
    {
      "cell_type": "code",
      "source": [
        "df_healthy = pd.read_excel('clusters_metrics_dataset.xlsx',\n",
        "                           sheet_name='healthy').loc[0:500]\n",
        "df_pd = pd.read_excel('clusters_metrics_dataset.xlsx',\n",
        "                           sheet_name='PD').loc[0:68]"
      ],
      "metadata": {
        "id": "tPuT4BtpPIhm"
      },
      "execution_count": null,
      "outputs": []
    },
    {
      "cell_type": "code",
      "source": [
        "df_healthy"
      ],
      "metadata": {
        "colab": {
          "base_uri": "https://localhost:8080/",
          "height": 790
        },
        "id": "EoflZlJfQlVm",
        "outputId": "70932c89-69e3-4179-ea04-e1ff038f761b"
      },
      "execution_count": null,
      "outputs": [
        {
          "output_type": "execute_result",
          "data": {
            "text/plain": [
              "    speakerID                                             tokens  \\\n",
              "0       PN-01  [['необходимо', 'на', 'пол', 'положить', 'стол...   \n",
              "1       PN-01  [['самым', 'запоминающимся', 'подарком', 'был'...   \n",
              "2       PN-01  [['человек', 'был', 'очень', 'завистливый', 'о...   \n",
              "3       PN-02  [['переверните', 'крышку', 'табурета'], ['тыль...   \n",
              "4       PN-02  [['когда', 'я', 'еще', 'училась', 'в'], ['школ...   \n",
              "..        ...                                                ...   \n",
              "496    TPN-14  [['аудио', 'запись'], ['четыре', 'как', 'собра...   \n",
              "497    TPN-14  [['аудио', 'запись', 'три'], ['расскажите', 'п...   \n",
              "498    TPN-14  [['аудио', 'запись', 'три'], ['расскажите', 'п...   \n",
              "499    TPN-14  [['рассказываю', 'подробную', 'историю', 'изоб...   \n",
              "500    TPN-14  [['и', 'так'], ['рассказать', 'историю', 'изоб...   \n",
              "\n",
              "     Switch_number_tokens  Mean_cluster_size_tokens  Mean_distance_tokens  \\\n",
              "0                    42.0                  5.661765              0.428440   \n",
              "1                    14.0                  5.370370              0.491251   \n",
              "2                    21.0                  5.287671              0.479614   \n",
              "3                    41.0                  6.311688              0.417164   \n",
              "4                    26.0                  4.277108              0.442196   \n",
              "..                    ...                       ...                   ...   \n",
              "496                  39.0                  5.956140              0.380374   \n",
              "497                  59.0                  4.606481              0.463193   \n",
              "498                  55.0                  5.010526              0.476894   \n",
              "499                 107.0                  4.952632              0.430530   \n",
              "500                  52.0                  4.965318              0.456106   \n",
              "\n",
              "     Silhouette_score_tokens  Mean_cluster_t_score_tokens  \\\n",
              "0                   0.199664                   508.109940   \n",
              "1                   0.185619                   299.437973   \n",
              "2                   0.225259                   375.861670   \n",
              "3                   0.121933                   560.059015   \n",
              "4                   0.091095                   277.014617   \n",
              "..                       ...                          ...   \n",
              "496                 0.081968                   434.597173   \n",
              "497                 0.139887                  1058.478950   \n",
              "498                 0.141315                   831.235427   \n",
              "499                 0.137201                  1282.022786   \n",
              "500                 0.198791                   819.458730   \n",
              "\n",
              "                                  tokens_without_stops  \\\n",
              "0    [['необходимо', 'пол', 'положить', 'столешницу...   \n",
              "1    [['самым', 'запоминающимся', 'подарком', 'посл...   \n",
              "2    [['человек', 'очень'], ['завистливый', 'он'], ...   \n",
              "3    [['переверните', 'крышку', 'табурета'], ['тыль...   \n",
              "4    [['когда', 'училась', 'школе', 'ко'], ['приеха...   \n",
              "..                                                 ...   \n",
              "496  [['аудио', 'запись'], ['четыре', 'как', 'собра...   \n",
              "497  [['аудио', 'запись', 'расскажите'], ['лучший',...   \n",
              "498  [['аудио', 'запись', 'расскажите'], ['лучшее',...   \n",
              "499  [['рассказываю', 'подробную', 'историю'], ['из...   \n",
              "500  [['и', 'рассказать', 'историю'], ['изображенну...   \n",
              "\n",
              "     Switch_number_tokens_without_stops  \\\n",
              "0                                  30.0   \n",
              "1                                   8.0   \n",
              "2                                  14.0   \n",
              "3                                  33.0   \n",
              "4                                  16.0   \n",
              "..                                  ...   \n",
              "496                                28.0   \n",
              "497                                37.0   \n",
              "498                                36.0   \n",
              "499                                75.0   \n",
              "500                                35.0   \n",
              "\n",
              "     Mean_cluster_size_tokens_without_stops  ...  Mean_cluster_size_lemmas  \\\n",
              "0                                  7.166667  ...                  5.632353   \n",
              "1                                  6.647059  ...                  5.290909   \n",
              "2                                  6.872340  ...                  5.438356   \n",
              "3                                  7.600000  ...                  6.168831   \n",
              "4                                  5.755556  ...                  4.277108   \n",
              "..                                      ...  ...                       ...   \n",
              "496                                7.271605  ...                  5.793103   \n",
              "497                                5.968504  ...                  4.600917   \n",
              "498                                6.533898  ...                  4.831633   \n",
              "499                                6.118321  ...                  4.825193   \n",
              "500                                6.403670  ...                  4.849162   \n",
              "\n",
              "     Mean_distance_lemmas  Silhouette_score_lemmas  \\\n",
              "0                0.489722                 0.273070   \n",
              "1                0.529752                 0.268354   \n",
              "2                0.543546                 0.242556   \n",
              "3                0.464152                 0.202697   \n",
              "4                0.476511                 0.064982   \n",
              "..                    ...                      ...   \n",
              "496              0.461374                 0.182359   \n",
              "497              0.510201                 0.184970   \n",
              "498              0.537384                 0.215904   \n",
              "499              0.504320                 0.200648   \n",
              "500              0.515940                 0.233238   \n",
              "\n",
              "    Mean_cluster_t_score_lemmas  \\\n",
              "0                    720.614508   \n",
              "1                    344.497041   \n",
              "2                    418.212941   \n",
              "3                    752.209701   \n",
              "4                    412.210461   \n",
              "..                          ...   \n",
              "496                  796.732069   \n",
              "497                 1110.119659   \n",
              "498                  857.269822   \n",
              "499                 1749.997580   \n",
              "500                  985.963645   \n",
              "\n",
              "                                  lemmas_without_stops  \\\n",
              "0    [['необходимый', 'пол', 'положить', 'столешниц...   \n",
              "1    [['самым', 'запоминаться', 'подарок', 'последн...   \n",
              "2    [['человек', 'очень'], ['завистливый', 'он', '...   \n",
              "3    [['перевернуть', 'крышка', 'табурет'], ['тыльн...   \n",
              "4    [['когда', 'учиться', 'школа', 'к'], ['приехат...   \n",
              "..                                                 ...   \n",
              "496  [['аудио', 'запись'], ['четыре', 'как', 'собра...   \n",
              "497  [['аудио', 'запись'], ['рассказать', 'хороший'...   \n",
              "498  [['аудио', 'запись'], ['рассказать', 'хороший'...   \n",
              "499  [['рассказывать', 'подробный', 'история'], ['и...   \n",
              "500  [['и', 'рассказать', 'история'], ['изображенну...   \n",
              "\n",
              "     Switch_number_lemmas_without_stops  \\\n",
              "0                                  28.0   \n",
              "1                                   8.0   \n",
              "2                                  16.0   \n",
              "3                                  34.0   \n",
              "4                                  15.0   \n",
              "..                                  ...   \n",
              "496                                23.0   \n",
              "497                                40.0   \n",
              "498                                35.0   \n",
              "499                                71.0   \n",
              "500                                32.0   \n",
              "\n",
              "     Mean_cluster_size_lemmas_without_stops  \\\n",
              "0                                  7.111111   \n",
              "1                                  6.606061   \n",
              "2                                  7.085106   \n",
              "3                                  7.434783   \n",
              "4                                  5.755556   \n",
              "..                                      ...   \n",
              "496                                7.123457   \n",
              "497                                5.937984   \n",
              "498                                6.280992   \n",
              "499                                6.097656   \n",
              "500                                6.309091   \n",
              "\n",
              "     Mean_distance_lemmas_without_stops  \\\n",
              "0                              0.480149   \n",
              "1                              0.430015   \n",
              "2                              0.448142   \n",
              "3                              0.491429   \n",
              "4                              0.460531   \n",
              "..                                  ...   \n",
              "496                            0.496351   \n",
              "497                            0.453659   \n",
              "498                            0.464673   \n",
              "499                            0.439236   \n",
              "500                            0.459165   \n",
              "\n",
              "     Silhouette_score_lemmas_without_stops  \\\n",
              "0                                 0.251540   \n",
              "1                                 0.130678   \n",
              "2                                 0.191347   \n",
              "3                                 0.234994   \n",
              "4                                 0.161854   \n",
              "..                                     ...   \n",
              "496                               0.243205   \n",
              "497                               0.159204   \n",
              "498                               0.186818   \n",
              "499                               0.126299   \n",
              "500                               0.200262   \n",
              "\n",
              "    Mean_cluster_t_score_lemmas_without_stops  \n",
              "0                                  266.433253  \n",
              "1                                  201.500834  \n",
              "2                                  124.501709  \n",
              "3                                  522.506322  \n",
              "4                                   78.469512  \n",
              "..                                        ...  \n",
              "496                                328.805058  \n",
              "497                                431.789151  \n",
              "498                                328.893759  \n",
              "499                                652.268839  \n",
              "500                                398.114514  \n",
              "\n",
              "[501 rows x 25 columns]"
            ],
            "text/html": [
              "\n",
              "  <div id=\"df-7910896e-c3b7-4d9d-9934-686350253c01\" class=\"colab-df-container\">\n",
              "    <div>\n",
              "<style scoped>\n",
              "    .dataframe tbody tr th:only-of-type {\n",
              "        vertical-align: middle;\n",
              "    }\n",
              "\n",
              "    .dataframe tbody tr th {\n",
              "        vertical-align: top;\n",
              "    }\n",
              "\n",
              "    .dataframe thead th {\n",
              "        text-align: right;\n",
              "    }\n",
              "</style>\n",
              "<table border=\"1\" class=\"dataframe\">\n",
              "  <thead>\n",
              "    <tr style=\"text-align: right;\">\n",
              "      <th></th>\n",
              "      <th>speakerID</th>\n",
              "      <th>tokens</th>\n",
              "      <th>Switch_number_tokens</th>\n",
              "      <th>Mean_cluster_size_tokens</th>\n",
              "      <th>Mean_distance_tokens</th>\n",
              "      <th>Silhouette_score_tokens</th>\n",
              "      <th>Mean_cluster_t_score_tokens</th>\n",
              "      <th>tokens_without_stops</th>\n",
              "      <th>Switch_number_tokens_without_stops</th>\n",
              "      <th>Mean_cluster_size_tokens_without_stops</th>\n",
              "      <th>...</th>\n",
              "      <th>Mean_cluster_size_lemmas</th>\n",
              "      <th>Mean_distance_lemmas</th>\n",
              "      <th>Silhouette_score_lemmas</th>\n",
              "      <th>Mean_cluster_t_score_lemmas</th>\n",
              "      <th>lemmas_without_stops</th>\n",
              "      <th>Switch_number_lemmas_without_stops</th>\n",
              "      <th>Mean_cluster_size_lemmas_without_stops</th>\n",
              "      <th>Mean_distance_lemmas_without_stops</th>\n",
              "      <th>Silhouette_score_lemmas_without_stops</th>\n",
              "      <th>Mean_cluster_t_score_lemmas_without_stops</th>\n",
              "    </tr>\n",
              "  </thead>\n",
              "  <tbody>\n",
              "    <tr>\n",
              "      <th>0</th>\n",
              "      <td>PN-01</td>\n",
              "      <td>[['необходимо', 'на', 'пол', 'положить', 'стол...</td>\n",
              "      <td>42.0</td>\n",
              "      <td>5.661765</td>\n",
              "      <td>0.428440</td>\n",
              "      <td>0.199664</td>\n",
              "      <td>508.109940</td>\n",
              "      <td>[['необходимо', 'пол', 'положить', 'столешницу...</td>\n",
              "      <td>30.0</td>\n",
              "      <td>7.166667</td>\n",
              "      <td>...</td>\n",
              "      <td>5.632353</td>\n",
              "      <td>0.489722</td>\n",
              "      <td>0.273070</td>\n",
              "      <td>720.614508</td>\n",
              "      <td>[['необходимый', 'пол', 'положить', 'столешниц...</td>\n",
              "      <td>28.0</td>\n",
              "      <td>7.111111</td>\n",
              "      <td>0.480149</td>\n",
              "      <td>0.251540</td>\n",
              "      <td>266.433253</td>\n",
              "    </tr>\n",
              "    <tr>\n",
              "      <th>1</th>\n",
              "      <td>PN-01</td>\n",
              "      <td>[['самым', 'запоминающимся', 'подарком', 'был'...</td>\n",
              "      <td>14.0</td>\n",
              "      <td>5.370370</td>\n",
              "      <td>0.491251</td>\n",
              "      <td>0.185619</td>\n",
              "      <td>299.437973</td>\n",
              "      <td>[['самым', 'запоминающимся', 'подарком', 'посл...</td>\n",
              "      <td>8.0</td>\n",
              "      <td>6.647059</td>\n",
              "      <td>...</td>\n",
              "      <td>5.290909</td>\n",
              "      <td>0.529752</td>\n",
              "      <td>0.268354</td>\n",
              "      <td>344.497041</td>\n",
              "      <td>[['самым', 'запоминаться', 'подарок', 'последн...</td>\n",
              "      <td>8.0</td>\n",
              "      <td>6.606061</td>\n",
              "      <td>0.430015</td>\n",
              "      <td>0.130678</td>\n",
              "      <td>201.500834</td>\n",
              "    </tr>\n",
              "    <tr>\n",
              "      <th>2</th>\n",
              "      <td>PN-01</td>\n",
              "      <td>[['человек', 'был', 'очень', 'завистливый', 'о...</td>\n",
              "      <td>21.0</td>\n",
              "      <td>5.287671</td>\n",
              "      <td>0.479614</td>\n",
              "      <td>0.225259</td>\n",
              "      <td>375.861670</td>\n",
              "      <td>[['человек', 'очень'], ['завистливый', 'он'], ...</td>\n",
              "      <td>14.0</td>\n",
              "      <td>6.872340</td>\n",
              "      <td>...</td>\n",
              "      <td>5.438356</td>\n",
              "      <td>0.543546</td>\n",
              "      <td>0.242556</td>\n",
              "      <td>418.212941</td>\n",
              "      <td>[['человек', 'очень'], ['завистливый', 'он', '...</td>\n",
              "      <td>16.0</td>\n",
              "      <td>7.085106</td>\n",
              "      <td>0.448142</td>\n",
              "      <td>0.191347</td>\n",
              "      <td>124.501709</td>\n",
              "    </tr>\n",
              "    <tr>\n",
              "      <th>3</th>\n",
              "      <td>PN-02</td>\n",
              "      <td>[['переверните', 'крышку', 'табурета'], ['тыль...</td>\n",
              "      <td>41.0</td>\n",
              "      <td>6.311688</td>\n",
              "      <td>0.417164</td>\n",
              "      <td>0.121933</td>\n",
              "      <td>560.059015</td>\n",
              "      <td>[['переверните', 'крышку', 'табурета'], ['тыль...</td>\n",
              "      <td>33.0</td>\n",
              "      <td>7.600000</td>\n",
              "      <td>...</td>\n",
              "      <td>6.168831</td>\n",
              "      <td>0.464152</td>\n",
              "      <td>0.202697</td>\n",
              "      <td>752.209701</td>\n",
              "      <td>[['перевернуть', 'крышка', 'табурет'], ['тыльн...</td>\n",
              "      <td>34.0</td>\n",
              "      <td>7.434783</td>\n",
              "      <td>0.491429</td>\n",
              "      <td>0.234994</td>\n",
              "      <td>522.506322</td>\n",
              "    </tr>\n",
              "    <tr>\n",
              "      <th>4</th>\n",
              "      <td>PN-02</td>\n",
              "      <td>[['когда', 'я', 'еще', 'училась', 'в'], ['школ...</td>\n",
              "      <td>26.0</td>\n",
              "      <td>4.277108</td>\n",
              "      <td>0.442196</td>\n",
              "      <td>0.091095</td>\n",
              "      <td>277.014617</td>\n",
              "      <td>[['когда', 'училась', 'школе', 'ко'], ['приеха...</td>\n",
              "      <td>16.0</td>\n",
              "      <td>5.755556</td>\n",
              "      <td>...</td>\n",
              "      <td>4.277108</td>\n",
              "      <td>0.476511</td>\n",
              "      <td>0.064982</td>\n",
              "      <td>412.210461</td>\n",
              "      <td>[['когда', 'учиться', 'школа', 'к'], ['приехат...</td>\n",
              "      <td>15.0</td>\n",
              "      <td>5.755556</td>\n",
              "      <td>0.460531</td>\n",
              "      <td>0.161854</td>\n",
              "      <td>78.469512</td>\n",
              "    </tr>\n",
              "    <tr>\n",
              "      <th>...</th>\n",
              "      <td>...</td>\n",
              "      <td>...</td>\n",
              "      <td>...</td>\n",
              "      <td>...</td>\n",
              "      <td>...</td>\n",
              "      <td>...</td>\n",
              "      <td>...</td>\n",
              "      <td>...</td>\n",
              "      <td>...</td>\n",
              "      <td>...</td>\n",
              "      <td>...</td>\n",
              "      <td>...</td>\n",
              "      <td>...</td>\n",
              "      <td>...</td>\n",
              "      <td>...</td>\n",
              "      <td>...</td>\n",
              "      <td>...</td>\n",
              "      <td>...</td>\n",
              "      <td>...</td>\n",
              "      <td>...</td>\n",
              "      <td>...</td>\n",
              "    </tr>\n",
              "    <tr>\n",
              "      <th>496</th>\n",
              "      <td>TPN-14</td>\n",
              "      <td>[['аудио', 'запись'], ['четыре', 'как', 'собра...</td>\n",
              "      <td>39.0</td>\n",
              "      <td>5.956140</td>\n",
              "      <td>0.380374</td>\n",
              "      <td>0.081968</td>\n",
              "      <td>434.597173</td>\n",
              "      <td>[['аудио', 'запись'], ['четыре', 'как', 'собра...</td>\n",
              "      <td>28.0</td>\n",
              "      <td>7.271605</td>\n",
              "      <td>...</td>\n",
              "      <td>5.793103</td>\n",
              "      <td>0.461374</td>\n",
              "      <td>0.182359</td>\n",
              "      <td>796.732069</td>\n",
              "      <td>[['аудио', 'запись'], ['четыре', 'как', 'собра...</td>\n",
              "      <td>23.0</td>\n",
              "      <td>7.123457</td>\n",
              "      <td>0.496351</td>\n",
              "      <td>0.243205</td>\n",
              "      <td>328.805058</td>\n",
              "    </tr>\n",
              "    <tr>\n",
              "      <th>497</th>\n",
              "      <td>TPN-14</td>\n",
              "      <td>[['аудио', 'запись', 'три'], ['расскажите', 'п...</td>\n",
              "      <td>59.0</td>\n",
              "      <td>4.606481</td>\n",
              "      <td>0.463193</td>\n",
              "      <td>0.139887</td>\n",
              "      <td>1058.478950</td>\n",
              "      <td>[['аудио', 'запись', 'расскажите'], ['лучший',...</td>\n",
              "      <td>37.0</td>\n",
              "      <td>5.968504</td>\n",
              "      <td>...</td>\n",
              "      <td>4.600917</td>\n",
              "      <td>0.510201</td>\n",
              "      <td>0.184970</td>\n",
              "      <td>1110.119659</td>\n",
              "      <td>[['аудио', 'запись'], ['рассказать', 'хороший'...</td>\n",
              "      <td>40.0</td>\n",
              "      <td>5.937984</td>\n",
              "      <td>0.453659</td>\n",
              "      <td>0.159204</td>\n",
              "      <td>431.789151</td>\n",
              "    </tr>\n",
              "    <tr>\n",
              "      <th>498</th>\n",
              "      <td>TPN-14</td>\n",
              "      <td>[['аудио', 'запись', 'три'], ['расскажите', 'п...</td>\n",
              "      <td>55.0</td>\n",
              "      <td>5.010526</td>\n",
              "      <td>0.476894</td>\n",
              "      <td>0.141315</td>\n",
              "      <td>831.235427</td>\n",
              "      <td>[['аудио', 'запись', 'расскажите'], ['лучшее',...</td>\n",
              "      <td>36.0</td>\n",
              "      <td>6.533898</td>\n",
              "      <td>...</td>\n",
              "      <td>4.831633</td>\n",
              "      <td>0.537384</td>\n",
              "      <td>0.215904</td>\n",
              "      <td>857.269822</td>\n",
              "      <td>[['аудио', 'запись'], ['рассказать', 'хороший'...</td>\n",
              "      <td>35.0</td>\n",
              "      <td>6.280992</td>\n",
              "      <td>0.464673</td>\n",
              "      <td>0.186818</td>\n",
              "      <td>328.893759</td>\n",
              "    </tr>\n",
              "    <tr>\n",
              "      <th>499</th>\n",
              "      <td>TPN-14</td>\n",
              "      <td>[['рассказываю', 'подробную', 'историю', 'изоб...</td>\n",
              "      <td>107.0</td>\n",
              "      <td>4.952632</td>\n",
              "      <td>0.430530</td>\n",
              "      <td>0.137201</td>\n",
              "      <td>1282.022786</td>\n",
              "      <td>[['рассказываю', 'подробную', 'историю'], ['из...</td>\n",
              "      <td>75.0</td>\n",
              "      <td>6.118321</td>\n",
              "      <td>...</td>\n",
              "      <td>4.825193</td>\n",
              "      <td>0.504320</td>\n",
              "      <td>0.200648</td>\n",
              "      <td>1749.997580</td>\n",
              "      <td>[['рассказывать', 'подробный', 'история'], ['и...</td>\n",
              "      <td>71.0</td>\n",
              "      <td>6.097656</td>\n",
              "      <td>0.439236</td>\n",
              "      <td>0.126299</td>\n",
              "      <td>652.268839</td>\n",
              "    </tr>\n",
              "    <tr>\n",
              "      <th>500</th>\n",
              "      <td>TPN-14</td>\n",
              "      <td>[['и', 'так'], ['рассказать', 'историю', 'изоб...</td>\n",
              "      <td>52.0</td>\n",
              "      <td>4.965318</td>\n",
              "      <td>0.456106</td>\n",
              "      <td>0.198791</td>\n",
              "      <td>819.458730</td>\n",
              "      <td>[['и', 'рассказать', 'историю'], ['изображенну...</td>\n",
              "      <td>35.0</td>\n",
              "      <td>6.403670</td>\n",
              "      <td>...</td>\n",
              "      <td>4.849162</td>\n",
              "      <td>0.515940</td>\n",
              "      <td>0.233238</td>\n",
              "      <td>985.963645</td>\n",
              "      <td>[['и', 'рассказать', 'история'], ['изображенну...</td>\n",
              "      <td>32.0</td>\n",
              "      <td>6.309091</td>\n",
              "      <td>0.459165</td>\n",
              "      <td>0.200262</td>\n",
              "      <td>398.114514</td>\n",
              "    </tr>\n",
              "  </tbody>\n",
              "</table>\n",
              "<p>501 rows × 25 columns</p>\n",
              "</div>\n",
              "    <div class=\"colab-df-buttons\">\n",
              "\n",
              "  <div class=\"colab-df-container\">\n",
              "    <button class=\"colab-df-convert\" onclick=\"convertToInteractive('df-7910896e-c3b7-4d9d-9934-686350253c01')\"\n",
              "            title=\"Convert this dataframe to an interactive table.\"\n",
              "            style=\"display:none;\">\n",
              "\n",
              "  <svg xmlns=\"http://www.w3.org/2000/svg\" height=\"24px\" viewBox=\"0 -960 960 960\">\n",
              "    <path d=\"M120-120v-720h720v720H120Zm60-500h600v-160H180v160Zm220 220h160v-160H400v160Zm0 220h160v-160H400v160ZM180-400h160v-160H180v160Zm440 0h160v-160H620v160ZM180-180h160v-160H180v160Zm440 0h160v-160H620v160Z\"/>\n",
              "  </svg>\n",
              "    </button>\n",
              "\n",
              "  <style>\n",
              "    .colab-df-container {\n",
              "      display:flex;\n",
              "      gap: 12px;\n",
              "    }\n",
              "\n",
              "    .colab-df-convert {\n",
              "      background-color: #E8F0FE;\n",
              "      border: none;\n",
              "      border-radius: 50%;\n",
              "      cursor: pointer;\n",
              "      display: none;\n",
              "      fill: #1967D2;\n",
              "      height: 32px;\n",
              "      padding: 0 0 0 0;\n",
              "      width: 32px;\n",
              "    }\n",
              "\n",
              "    .colab-df-convert:hover {\n",
              "      background-color: #E2EBFA;\n",
              "      box-shadow: 0px 1px 2px rgba(60, 64, 67, 0.3), 0px 1px 3px 1px rgba(60, 64, 67, 0.15);\n",
              "      fill: #174EA6;\n",
              "    }\n",
              "\n",
              "    .colab-df-buttons div {\n",
              "      margin-bottom: 4px;\n",
              "    }\n",
              "\n",
              "    [theme=dark] .colab-df-convert {\n",
              "      background-color: #3B4455;\n",
              "      fill: #D2E3FC;\n",
              "    }\n",
              "\n",
              "    [theme=dark] .colab-df-convert:hover {\n",
              "      background-color: #434B5C;\n",
              "      box-shadow: 0px 1px 3px 1px rgba(0, 0, 0, 0.15);\n",
              "      filter: drop-shadow(0px 1px 2px rgba(0, 0, 0, 0.3));\n",
              "      fill: #FFFFFF;\n",
              "    }\n",
              "  </style>\n",
              "\n",
              "    <script>\n",
              "      const buttonEl =\n",
              "        document.querySelector('#df-7910896e-c3b7-4d9d-9934-686350253c01 button.colab-df-convert');\n",
              "      buttonEl.style.display =\n",
              "        google.colab.kernel.accessAllowed ? 'block' : 'none';\n",
              "\n",
              "      async function convertToInteractive(key) {\n",
              "        const element = document.querySelector('#df-7910896e-c3b7-4d9d-9934-686350253c01');\n",
              "        const dataTable =\n",
              "          await google.colab.kernel.invokeFunction('convertToInteractive',\n",
              "                                                    [key], {});\n",
              "        if (!dataTable) return;\n",
              "\n",
              "        const docLinkHtml = 'Like what you see? Visit the ' +\n",
              "          '<a target=\"_blank\" href=https://colab.research.google.com/notebooks/data_table.ipynb>data table notebook</a>'\n",
              "          + ' to learn more about interactive tables.';\n",
              "        element.innerHTML = '';\n",
              "        dataTable['output_type'] = 'display_data';\n",
              "        await google.colab.output.renderOutput(dataTable, element);\n",
              "        const docLink = document.createElement('div');\n",
              "        docLink.innerHTML = docLinkHtml;\n",
              "        element.appendChild(docLink);\n",
              "      }\n",
              "    </script>\n",
              "  </div>\n",
              "\n",
              "\n",
              "<div id=\"df-b2bb3244-e02c-4625-8b1d-a27a3138f9cc\">\n",
              "  <button class=\"colab-df-quickchart\" onclick=\"quickchart('df-b2bb3244-e02c-4625-8b1d-a27a3138f9cc')\"\n",
              "            title=\"Suggest charts\"\n",
              "            style=\"display:none;\">\n",
              "\n",
              "<svg xmlns=\"http://www.w3.org/2000/svg\" height=\"24px\"viewBox=\"0 0 24 24\"\n",
              "     width=\"24px\">\n",
              "    <g>\n",
              "        <path d=\"M19 3H5c-1.1 0-2 .9-2 2v14c0 1.1.9 2 2 2h14c1.1 0 2-.9 2-2V5c0-1.1-.9-2-2-2zM9 17H7v-7h2v7zm4 0h-2V7h2v10zm4 0h-2v-4h2v4z\"/>\n",
              "    </g>\n",
              "</svg>\n",
              "  </button>\n",
              "\n",
              "<style>\n",
              "  .colab-df-quickchart {\n",
              "      --bg-color: #E8F0FE;\n",
              "      --fill-color: #1967D2;\n",
              "      --hover-bg-color: #E2EBFA;\n",
              "      --hover-fill-color: #174EA6;\n",
              "      --disabled-fill-color: #AAA;\n",
              "      --disabled-bg-color: #DDD;\n",
              "  }\n",
              "\n",
              "  [theme=dark] .colab-df-quickchart {\n",
              "      --bg-color: #3B4455;\n",
              "      --fill-color: #D2E3FC;\n",
              "      --hover-bg-color: #434B5C;\n",
              "      --hover-fill-color: #FFFFFF;\n",
              "      --disabled-bg-color: #3B4455;\n",
              "      --disabled-fill-color: #666;\n",
              "  }\n",
              "\n",
              "  .colab-df-quickchart {\n",
              "    background-color: var(--bg-color);\n",
              "    border: none;\n",
              "    border-radius: 50%;\n",
              "    cursor: pointer;\n",
              "    display: none;\n",
              "    fill: var(--fill-color);\n",
              "    height: 32px;\n",
              "    padding: 0;\n",
              "    width: 32px;\n",
              "  }\n",
              "\n",
              "  .colab-df-quickchart:hover {\n",
              "    background-color: var(--hover-bg-color);\n",
              "    box-shadow: 0 1px 2px rgba(60, 64, 67, 0.3), 0 1px 3px 1px rgba(60, 64, 67, 0.15);\n",
              "    fill: var(--button-hover-fill-color);\n",
              "  }\n",
              "\n",
              "  .colab-df-quickchart-complete:disabled,\n",
              "  .colab-df-quickchart-complete:disabled:hover {\n",
              "    background-color: var(--disabled-bg-color);\n",
              "    fill: var(--disabled-fill-color);\n",
              "    box-shadow: none;\n",
              "  }\n",
              "\n",
              "  .colab-df-spinner {\n",
              "    border: 2px solid var(--fill-color);\n",
              "    border-color: transparent;\n",
              "    border-bottom-color: var(--fill-color);\n",
              "    animation:\n",
              "      spin 1s steps(1) infinite;\n",
              "  }\n",
              "\n",
              "  @keyframes spin {\n",
              "    0% {\n",
              "      border-color: transparent;\n",
              "      border-bottom-color: var(--fill-color);\n",
              "      border-left-color: var(--fill-color);\n",
              "    }\n",
              "    20% {\n",
              "      border-color: transparent;\n",
              "      border-left-color: var(--fill-color);\n",
              "      border-top-color: var(--fill-color);\n",
              "    }\n",
              "    30% {\n",
              "      border-color: transparent;\n",
              "      border-left-color: var(--fill-color);\n",
              "      border-top-color: var(--fill-color);\n",
              "      border-right-color: var(--fill-color);\n",
              "    }\n",
              "    40% {\n",
              "      border-color: transparent;\n",
              "      border-right-color: var(--fill-color);\n",
              "      border-top-color: var(--fill-color);\n",
              "    }\n",
              "    60% {\n",
              "      border-color: transparent;\n",
              "      border-right-color: var(--fill-color);\n",
              "    }\n",
              "    80% {\n",
              "      border-color: transparent;\n",
              "      border-right-color: var(--fill-color);\n",
              "      border-bottom-color: var(--fill-color);\n",
              "    }\n",
              "    90% {\n",
              "      border-color: transparent;\n",
              "      border-bottom-color: var(--fill-color);\n",
              "    }\n",
              "  }\n",
              "</style>\n",
              "\n",
              "  <script>\n",
              "    async function quickchart(key) {\n",
              "      const quickchartButtonEl =\n",
              "        document.querySelector('#' + key + ' button');\n",
              "      quickchartButtonEl.disabled = true;  // To prevent multiple clicks.\n",
              "      quickchartButtonEl.classList.add('colab-df-spinner');\n",
              "      try {\n",
              "        const charts = await google.colab.kernel.invokeFunction(\n",
              "            'suggestCharts', [key], {});\n",
              "      } catch (error) {\n",
              "        console.error('Error during call to suggestCharts:', error);\n",
              "      }\n",
              "      quickchartButtonEl.classList.remove('colab-df-spinner');\n",
              "      quickchartButtonEl.classList.add('colab-df-quickchart-complete');\n",
              "    }\n",
              "    (() => {\n",
              "      let quickchartButtonEl =\n",
              "        document.querySelector('#df-b2bb3244-e02c-4625-8b1d-a27a3138f9cc button');\n",
              "      quickchartButtonEl.style.display =\n",
              "        google.colab.kernel.accessAllowed ? 'block' : 'none';\n",
              "    })();\n",
              "  </script>\n",
              "</div>\n",
              "    </div>\n",
              "  </div>\n"
            ],
            "application/vnd.google.colaboratory.intrinsic+json": {
              "type": "dataframe",
              "variable_name": "df_healthy"
            }
          },
          "metadata": {},
          "execution_count": 30
        }
      ]
    },
    {
      "cell_type": "code",
      "source": [
        "df_pd"
      ],
      "metadata": {
        "colab": {
          "base_uri": "https://localhost:8080/",
          "height": 964
        },
        "id": "MyYBm41Ep8nn",
        "outputId": "46ce66e9-aa22-4a3a-a744-f49182b7ae86"
      },
      "execution_count": null,
      "outputs": [
        {
          "output_type": "execute_result",
          "data": {
            "text/plain": [
              "        ID                                             tokens  \\\n",
              "0   PD-001  [['ну', 'больше', 'всего'], ['меня', 'впечатли...   \n",
              "1   PD-002  [['не', 'такой'], ['уж', 'обычный', 'традицион...   \n",
              "2   PD-004  [['я', 'была'], ['в', 'начальных', 'классах'],...   \n",
              "3   PD-005  [['я', 'не', 'помню'], ['свои', 'подарки'], ['...   \n",
              "4   PD-006  [['так', 'мне', 'запомнился', 'подарок'], ['ко...   \n",
              "..     ...                                                ...   \n",
              "64  PD-076  [['это', 'подарок'], ['собака', 'на', 'новый',...   \n",
              "65  PD-078  [['так', 'ну'], ['хорошо', 'у', 'меня'], ['ког...   \n",
              "66  PD-079  [['однажды', 'с'], ['папой', 'мы'], ['поехали'...   \n",
              "67  PD-080  [['я', 'один', 'раз'], ['пошла', 'гулять', 'с'...   \n",
              "68  PD-081  [['ну', 'путешествие', 'в'], ['сочи', 'поехали...   \n",
              "\n",
              "    Switch_number_tokens  Mean_cluster_size_tokens  Mean_distance_tokens  \\\n",
              "0                   13.0                  5.142857              0.477241   \n",
              "1                   44.0                  4.568047              0.536971   \n",
              "2                   44.0                  4.629371              0.481372   \n",
              "3                   20.0                  4.696970              0.453224   \n",
              "4                   38.0                  4.682432              0.517010   \n",
              "..                   ...                       ...                   ...   \n",
              "64                   6.0                  4.125000              0.462674   \n",
              "65                  40.0                  4.402685              0.524687   \n",
              "66                  23.0                  4.506024              0.446506   \n",
              "67                  15.0                  4.339623              0.485405   \n",
              "68                  11.0                  5.023256              0.506734   \n",
              "\n",
              "    Silhouette_score_tokens  Mean_cluster_t_score_tokens  \\\n",
              "0                  0.105110                   173.356602   \n",
              "1                  0.198468                   513.820124   \n",
              "2                  0.271767                   405.407193   \n",
              "3                  0.113918                   185.315282   \n",
              "4                  0.198442                   382.635544   \n",
              "..                      ...                          ...   \n",
              "64                 0.207923                    92.680873   \n",
              "65                 0.204499                   540.656197   \n",
              "66                 0.214002                   175.639552   \n",
              "67                 0.223821                   101.878658   \n",
              "68                 0.196535                    75.411933   \n",
              "\n",
              "                                 tokens_without_stops  \\\n",
              "0   [['ну', 'впечатлил'], ['подарок', 'день', 'рож...   \n",
              "1   [['не', 'обычный', 'традиционный', 'подарок', ...   \n",
              "2   [['я', 'начальных', 'классах'], ['я', 'очень']...   \n",
              "3   [['я', 'помню'], ['свои', 'подарки'], ['наверн...   \n",
              "4   [['запомнился', 'подарок', 'молодой', 'человек...   \n",
              "..                                                ...   \n",
              "64  [['это', 'подарок'], ['собака', 'новый', 'год'...   \n",
              "65  [['так', 'у'], ['времени', 'сходить', 'подарко...   \n",
              "66  [['однажды', 'папой'], ['поехали', 'крым'], ['...   \n",
              "67  [['я', 'пошла'], ['гулять', 'кошкой', 'спрыгну...   \n",
              "68  [['ну', 'путешествие', 'сочи', 'поехали'], ['д...   \n",
              "\n",
              "    Switch_number_tokens_without_stops  \\\n",
              "0                                  7.0   \n",
              "1                                 28.0   \n",
              "2                                 26.0   \n",
              "3                                 14.0   \n",
              "4                                 23.0   \n",
              "..                                 ...   \n",
              "64                                 5.0   \n",
              "65                                22.0   \n",
              "66                                18.0   \n",
              "67                                 7.0   \n",
              "68                                 8.0   \n",
              "\n",
              "    Mean_cluster_size_tokens_without_stops  ...  Mean_cluster_size_lemmas  \\\n",
              "0                                 7.086957  ...                  5.122449   \n",
              "1                                 6.170455  ...                  4.552941   \n",
              "2                                 5.688889  ...                  4.414966   \n",
              "3                                 6.125000  ...                  4.651515   \n",
              "4                                 6.105882  ...                  4.705479   \n",
              "..                                     ...  ...                       ...   \n",
              "64                                5.133333  ...                  4.083333   \n",
              "65                                6.597015  ...                  4.284768   \n",
              "66                                5.655172  ...                  4.518072   \n",
              "67                                5.580645  ...                  4.264151   \n",
              "68                                6.100000  ...                  5.139535   \n",
              "\n",
              "    Mean_distance_lemmas  Silhouette_score_lemmas Mean_cluster_t_score_lemmas  \\\n",
              "0               0.505469                 0.152961                  156.245227   \n",
              "1               0.563129                 0.238804                  618.934870   \n",
              "2               0.535013                 0.139313                   58.018152   \n",
              "3               0.491485                 0.157894                  201.299511   \n",
              "4               0.528634                 0.230140                  334.452118   \n",
              "..                   ...                      ...                         ...   \n",
              "64              0.521235                 0.270448                   82.135843   \n",
              "65              0.526479                 0.195216                  625.599975   \n",
              "66              0.489120                 0.144007                  160.300200   \n",
              "67              0.473115                 0.180901                  107.668551   \n",
              "68              0.511917                 0.227444                   82.680494   \n",
              "\n",
              "                                 lemmas_without_stops  \\\n",
              "0   [['ну', 'впечатлить'], ['подарок', 'день', 'ро...   \n",
              "1   [['не', 'обычный', 'традиционный', 'подарок'],...   \n",
              "2   [['я', 'начальный', 'класс'], ['я', 'очень'], ...   \n",
              "3   [['я', 'помнить'], ['свой', 'подарок'], ['наве...   \n",
              "4   [['запомниться', 'подарок'], ['молодой', 'чело...   \n",
              "..                                                ...   \n",
              "64  [['это', 'подарок'], ['собака', 'новый', 'год'...   \n",
              "65  [['так', 'у'], ['время', 'сходить', 'подарок']...   \n",
              "66  [['однажды', 'папа', 'поехать', 'крым'], ['ост...   \n",
              "67  [['я', 'пойти', 'гулять', 'кошка', 'спрыгнуть'...   \n",
              "68  [['ну', 'путешествие', 'сочи', 'поехать'], ['р...   \n",
              "\n",
              "    Switch_number_lemmas_without_stops  \\\n",
              "0                                  6.0   \n",
              "1                                 27.0   \n",
              "2                                 25.0   \n",
              "3                                 13.0   \n",
              "4                                 25.0   \n",
              "..                                 ...   \n",
              "64                                 4.0   \n",
              "65                                19.0   \n",
              "66                                17.0   \n",
              "67                                10.0   \n",
              "68                                10.0   \n",
              "\n",
              "    Mean_cluster_size_lemmas_without_stops  \\\n",
              "0                                 7.043478   \n",
              "1                                 6.125000   \n",
              "2                                 5.428571   \n",
              "3                                 6.000000   \n",
              "4                                 6.180723   \n",
              "..                                     ...   \n",
              "64                                5.066667   \n",
              "65                                6.275362   \n",
              "66                                5.655172   \n",
              "67                                5.451613   \n",
              "68                                6.266667   \n",
              "\n",
              "    Mean_distance_lemmas_without_stops  Silhouette_score_lemmas_without_stops  \\\n",
              "0                             0.429536                              -0.000615   \n",
              "1                             0.515226                               0.238879   \n",
              "2                             0.483758                              -0.006125   \n",
              "3                             0.452364                               0.135730   \n",
              "4                             0.472370                               0.160692   \n",
              "..                                 ...                                    ...   \n",
              "64                            0.558888                               0.354476   \n",
              "65                            0.497606                               0.145375   \n",
              "66                            0.479644                               0.131802   \n",
              "67                            0.457827                               0.158249   \n",
              "68                            0.464239                               0.295116   \n",
              "\n",
              "   Mean_cluster_t_score_lemmas_without_stops  \n",
              "0                                  57.621324  \n",
              "1                                 186.308039  \n",
              "2                                 123.475970  \n",
              "3                                  69.276025  \n",
              "4                                 133.754792  \n",
              "..                                       ...  \n",
              "64                                 35.920577  \n",
              "65                                137.889794  \n",
              "66                                 93.652401  \n",
              "67                                 47.506969  \n",
              "68                                 43.430769  \n",
              "\n",
              "[69 rows x 25 columns]"
            ],
            "text/html": [
              "\n",
              "  <div id=\"df-0cacae0f-8fab-4bf6-9bfd-ba9cf477d3e4\" class=\"colab-df-container\">\n",
              "    <div>\n",
              "<style scoped>\n",
              "    .dataframe tbody tr th:only-of-type {\n",
              "        vertical-align: middle;\n",
              "    }\n",
              "\n",
              "    .dataframe tbody tr th {\n",
              "        vertical-align: top;\n",
              "    }\n",
              "\n",
              "    .dataframe thead th {\n",
              "        text-align: right;\n",
              "    }\n",
              "</style>\n",
              "<table border=\"1\" class=\"dataframe\">\n",
              "  <thead>\n",
              "    <tr style=\"text-align: right;\">\n",
              "      <th></th>\n",
              "      <th>ID</th>\n",
              "      <th>tokens</th>\n",
              "      <th>Switch_number_tokens</th>\n",
              "      <th>Mean_cluster_size_tokens</th>\n",
              "      <th>Mean_distance_tokens</th>\n",
              "      <th>Silhouette_score_tokens</th>\n",
              "      <th>Mean_cluster_t_score_tokens</th>\n",
              "      <th>tokens_without_stops</th>\n",
              "      <th>Switch_number_tokens_without_stops</th>\n",
              "      <th>Mean_cluster_size_tokens_without_stops</th>\n",
              "      <th>...</th>\n",
              "      <th>Mean_cluster_size_lemmas</th>\n",
              "      <th>Mean_distance_lemmas</th>\n",
              "      <th>Silhouette_score_lemmas</th>\n",
              "      <th>Mean_cluster_t_score_lemmas</th>\n",
              "      <th>lemmas_without_stops</th>\n",
              "      <th>Switch_number_lemmas_without_stops</th>\n",
              "      <th>Mean_cluster_size_lemmas_without_stops</th>\n",
              "      <th>Mean_distance_lemmas_without_stops</th>\n",
              "      <th>Silhouette_score_lemmas_without_stops</th>\n",
              "      <th>Mean_cluster_t_score_lemmas_without_stops</th>\n",
              "    </tr>\n",
              "  </thead>\n",
              "  <tbody>\n",
              "    <tr>\n",
              "      <th>0</th>\n",
              "      <td>PD-001</td>\n",
              "      <td>[['ну', 'больше', 'всего'], ['меня', 'впечатли...</td>\n",
              "      <td>13.0</td>\n",
              "      <td>5.142857</td>\n",
              "      <td>0.477241</td>\n",
              "      <td>0.105110</td>\n",
              "      <td>173.356602</td>\n",
              "      <td>[['ну', 'впечатлил'], ['подарок', 'день', 'рож...</td>\n",
              "      <td>7.0</td>\n",
              "      <td>7.086957</td>\n",
              "      <td>...</td>\n",
              "      <td>5.122449</td>\n",
              "      <td>0.505469</td>\n",
              "      <td>0.152961</td>\n",
              "      <td>156.245227</td>\n",
              "      <td>[['ну', 'впечатлить'], ['подарок', 'день', 'ро...</td>\n",
              "      <td>6.0</td>\n",
              "      <td>7.043478</td>\n",
              "      <td>0.429536</td>\n",
              "      <td>-0.000615</td>\n",
              "      <td>57.621324</td>\n",
              "    </tr>\n",
              "    <tr>\n",
              "      <th>1</th>\n",
              "      <td>PD-002</td>\n",
              "      <td>[['не', 'такой'], ['уж', 'обычный', 'традицион...</td>\n",
              "      <td>44.0</td>\n",
              "      <td>4.568047</td>\n",
              "      <td>0.536971</td>\n",
              "      <td>0.198468</td>\n",
              "      <td>513.820124</td>\n",
              "      <td>[['не', 'обычный', 'традиционный', 'подарок', ...</td>\n",
              "      <td>28.0</td>\n",
              "      <td>6.170455</td>\n",
              "      <td>...</td>\n",
              "      <td>4.552941</td>\n",
              "      <td>0.563129</td>\n",
              "      <td>0.238804</td>\n",
              "      <td>618.934870</td>\n",
              "      <td>[['не', 'обычный', 'традиционный', 'подарок'],...</td>\n",
              "      <td>27.0</td>\n",
              "      <td>6.125000</td>\n",
              "      <td>0.515226</td>\n",
              "      <td>0.238879</td>\n",
              "      <td>186.308039</td>\n",
              "    </tr>\n",
              "    <tr>\n",
              "      <th>2</th>\n",
              "      <td>PD-004</td>\n",
              "      <td>[['я', 'была'], ['в', 'начальных', 'классах'],...</td>\n",
              "      <td>44.0</td>\n",
              "      <td>4.629371</td>\n",
              "      <td>0.481372</td>\n",
              "      <td>0.271767</td>\n",
              "      <td>405.407193</td>\n",
              "      <td>[['я', 'начальных', 'классах'], ['я', 'очень']...</td>\n",
              "      <td>26.0</td>\n",
              "      <td>5.688889</td>\n",
              "      <td>...</td>\n",
              "      <td>4.414966</td>\n",
              "      <td>0.535013</td>\n",
              "      <td>0.139313</td>\n",
              "      <td>58.018152</td>\n",
              "      <td>[['я', 'начальный', 'класс'], ['я', 'очень'], ...</td>\n",
              "      <td>25.0</td>\n",
              "      <td>5.428571</td>\n",
              "      <td>0.483758</td>\n",
              "      <td>-0.006125</td>\n",
              "      <td>123.475970</td>\n",
              "    </tr>\n",
              "    <tr>\n",
              "      <th>3</th>\n",
              "      <td>PD-005</td>\n",
              "      <td>[['я', 'не', 'помню'], ['свои', 'подарки'], ['...</td>\n",
              "      <td>20.0</td>\n",
              "      <td>4.696970</td>\n",
              "      <td>0.453224</td>\n",
              "      <td>0.113918</td>\n",
              "      <td>185.315282</td>\n",
              "      <td>[['я', 'помню'], ['свои', 'подарки'], ['наверн...</td>\n",
              "      <td>14.0</td>\n",
              "      <td>6.125000</td>\n",
              "      <td>...</td>\n",
              "      <td>4.651515</td>\n",
              "      <td>0.491485</td>\n",
              "      <td>0.157894</td>\n",
              "      <td>201.299511</td>\n",
              "      <td>[['я', 'помнить'], ['свой', 'подарок'], ['наве...</td>\n",
              "      <td>13.0</td>\n",
              "      <td>6.000000</td>\n",
              "      <td>0.452364</td>\n",
              "      <td>0.135730</td>\n",
              "      <td>69.276025</td>\n",
              "    </tr>\n",
              "    <tr>\n",
              "      <th>4</th>\n",
              "      <td>PD-006</td>\n",
              "      <td>[['так', 'мне', 'запомнился', 'подарок'], ['ко...</td>\n",
              "      <td>38.0</td>\n",
              "      <td>4.682432</td>\n",
              "      <td>0.517010</td>\n",
              "      <td>0.198442</td>\n",
              "      <td>382.635544</td>\n",
              "      <td>[['запомнился', 'подарок', 'молодой', 'человек...</td>\n",
              "      <td>23.0</td>\n",
              "      <td>6.105882</td>\n",
              "      <td>...</td>\n",
              "      <td>4.705479</td>\n",
              "      <td>0.528634</td>\n",
              "      <td>0.230140</td>\n",
              "      <td>334.452118</td>\n",
              "      <td>[['запомниться', 'подарок'], ['молодой', 'чело...</td>\n",
              "      <td>25.0</td>\n",
              "      <td>6.180723</td>\n",
              "      <td>0.472370</td>\n",
              "      <td>0.160692</td>\n",
              "      <td>133.754792</td>\n",
              "    </tr>\n",
              "    <tr>\n",
              "      <th>...</th>\n",
              "      <td>...</td>\n",
              "      <td>...</td>\n",
              "      <td>...</td>\n",
              "      <td>...</td>\n",
              "      <td>...</td>\n",
              "      <td>...</td>\n",
              "      <td>...</td>\n",
              "      <td>...</td>\n",
              "      <td>...</td>\n",
              "      <td>...</td>\n",
              "      <td>...</td>\n",
              "      <td>...</td>\n",
              "      <td>...</td>\n",
              "      <td>...</td>\n",
              "      <td>...</td>\n",
              "      <td>...</td>\n",
              "      <td>...</td>\n",
              "      <td>...</td>\n",
              "      <td>...</td>\n",
              "      <td>...</td>\n",
              "      <td>...</td>\n",
              "    </tr>\n",
              "    <tr>\n",
              "      <th>64</th>\n",
              "      <td>PD-076</td>\n",
              "      <td>[['это', 'подарок'], ['собака', 'на', 'новый',...</td>\n",
              "      <td>6.0</td>\n",
              "      <td>4.125000</td>\n",
              "      <td>0.462674</td>\n",
              "      <td>0.207923</td>\n",
              "      <td>92.680873</td>\n",
              "      <td>[['это', 'подарок'], ['собака', 'новый', 'год'...</td>\n",
              "      <td>5.0</td>\n",
              "      <td>5.133333</td>\n",
              "      <td>...</td>\n",
              "      <td>4.083333</td>\n",
              "      <td>0.521235</td>\n",
              "      <td>0.270448</td>\n",
              "      <td>82.135843</td>\n",
              "      <td>[['это', 'подарок'], ['собака', 'новый', 'год'...</td>\n",
              "      <td>4.0</td>\n",
              "      <td>5.066667</td>\n",
              "      <td>0.558888</td>\n",
              "      <td>0.354476</td>\n",
              "      <td>35.920577</td>\n",
              "    </tr>\n",
              "    <tr>\n",
              "      <th>65</th>\n",
              "      <td>PD-078</td>\n",
              "      <td>[['так', 'ну'], ['хорошо', 'у', 'меня'], ['ког...</td>\n",
              "      <td>40.0</td>\n",
              "      <td>4.402685</td>\n",
              "      <td>0.524687</td>\n",
              "      <td>0.204499</td>\n",
              "      <td>540.656197</td>\n",
              "      <td>[['так', 'у'], ['времени', 'сходить', 'подарко...</td>\n",
              "      <td>22.0</td>\n",
              "      <td>6.597015</td>\n",
              "      <td>...</td>\n",
              "      <td>4.284768</td>\n",
              "      <td>0.526479</td>\n",
              "      <td>0.195216</td>\n",
              "      <td>625.599975</td>\n",
              "      <td>[['так', 'у'], ['время', 'сходить', 'подарок']...</td>\n",
              "      <td>19.0</td>\n",
              "      <td>6.275362</td>\n",
              "      <td>0.497606</td>\n",
              "      <td>0.145375</td>\n",
              "      <td>137.889794</td>\n",
              "    </tr>\n",
              "    <tr>\n",
              "      <th>66</th>\n",
              "      <td>PD-079</td>\n",
              "      <td>[['однажды', 'с'], ['папой', 'мы'], ['поехали'...</td>\n",
              "      <td>23.0</td>\n",
              "      <td>4.506024</td>\n",
              "      <td>0.446506</td>\n",
              "      <td>0.214002</td>\n",
              "      <td>175.639552</td>\n",
              "      <td>[['однажды', 'папой'], ['поехали', 'крым'], ['...</td>\n",
              "      <td>18.0</td>\n",
              "      <td>5.655172</td>\n",
              "      <td>...</td>\n",
              "      <td>4.518072</td>\n",
              "      <td>0.489120</td>\n",
              "      <td>0.144007</td>\n",
              "      <td>160.300200</td>\n",
              "      <td>[['однажды', 'папа', 'поехать', 'крым'], ['ост...</td>\n",
              "      <td>17.0</td>\n",
              "      <td>5.655172</td>\n",
              "      <td>0.479644</td>\n",
              "      <td>0.131802</td>\n",
              "      <td>93.652401</td>\n",
              "    </tr>\n",
              "    <tr>\n",
              "      <th>67</th>\n",
              "      <td>PD-080</td>\n",
              "      <td>[['я', 'один', 'раз'], ['пошла', 'гулять', 'с'...</td>\n",
              "      <td>15.0</td>\n",
              "      <td>4.339623</td>\n",
              "      <td>0.485405</td>\n",
              "      <td>0.223821</td>\n",
              "      <td>101.878658</td>\n",
              "      <td>[['я', 'пошла'], ['гулять', 'кошкой', 'спрыгну...</td>\n",
              "      <td>7.0</td>\n",
              "      <td>5.580645</td>\n",
              "      <td>...</td>\n",
              "      <td>4.264151</td>\n",
              "      <td>0.473115</td>\n",
              "      <td>0.180901</td>\n",
              "      <td>107.668551</td>\n",
              "      <td>[['я', 'пойти', 'гулять', 'кошка', 'спрыгнуть'...</td>\n",
              "      <td>10.0</td>\n",
              "      <td>5.451613</td>\n",
              "      <td>0.457827</td>\n",
              "      <td>0.158249</td>\n",
              "      <td>47.506969</td>\n",
              "    </tr>\n",
              "    <tr>\n",
              "      <th>68</th>\n",
              "      <td>PD-081</td>\n",
              "      <td>[['ну', 'путешествие', 'в'], ['сочи', 'поехали...</td>\n",
              "      <td>11.0</td>\n",
              "      <td>5.023256</td>\n",
              "      <td>0.506734</td>\n",
              "      <td>0.196535</td>\n",
              "      <td>75.411933</td>\n",
              "      <td>[['ну', 'путешествие', 'сочи', 'поехали'], ['д...</td>\n",
              "      <td>8.0</td>\n",
              "      <td>6.100000</td>\n",
              "      <td>...</td>\n",
              "      <td>5.139535</td>\n",
              "      <td>0.511917</td>\n",
              "      <td>0.227444</td>\n",
              "      <td>82.680494</td>\n",
              "      <td>[['ну', 'путешествие', 'сочи', 'поехать'], ['р...</td>\n",
              "      <td>10.0</td>\n",
              "      <td>6.266667</td>\n",
              "      <td>0.464239</td>\n",
              "      <td>0.295116</td>\n",
              "      <td>43.430769</td>\n",
              "    </tr>\n",
              "  </tbody>\n",
              "</table>\n",
              "<p>69 rows × 25 columns</p>\n",
              "</div>\n",
              "    <div class=\"colab-df-buttons\">\n",
              "\n",
              "  <div class=\"colab-df-container\">\n",
              "    <button class=\"colab-df-convert\" onclick=\"convertToInteractive('df-0cacae0f-8fab-4bf6-9bfd-ba9cf477d3e4')\"\n",
              "            title=\"Convert this dataframe to an interactive table.\"\n",
              "            style=\"display:none;\">\n",
              "\n",
              "  <svg xmlns=\"http://www.w3.org/2000/svg\" height=\"24px\" viewBox=\"0 -960 960 960\">\n",
              "    <path d=\"M120-120v-720h720v720H120Zm60-500h600v-160H180v160Zm220 220h160v-160H400v160Zm0 220h160v-160H400v160ZM180-400h160v-160H180v160Zm440 0h160v-160H620v160ZM180-180h160v-160H180v160Zm440 0h160v-160H620v160Z\"/>\n",
              "  </svg>\n",
              "    </button>\n",
              "\n",
              "  <style>\n",
              "    .colab-df-container {\n",
              "      display:flex;\n",
              "      gap: 12px;\n",
              "    }\n",
              "\n",
              "    .colab-df-convert {\n",
              "      background-color: #E8F0FE;\n",
              "      border: none;\n",
              "      border-radius: 50%;\n",
              "      cursor: pointer;\n",
              "      display: none;\n",
              "      fill: #1967D2;\n",
              "      height: 32px;\n",
              "      padding: 0 0 0 0;\n",
              "      width: 32px;\n",
              "    }\n",
              "\n",
              "    .colab-df-convert:hover {\n",
              "      background-color: #E2EBFA;\n",
              "      box-shadow: 0px 1px 2px rgba(60, 64, 67, 0.3), 0px 1px 3px 1px rgba(60, 64, 67, 0.15);\n",
              "      fill: #174EA6;\n",
              "    }\n",
              "\n",
              "    .colab-df-buttons div {\n",
              "      margin-bottom: 4px;\n",
              "    }\n",
              "\n",
              "    [theme=dark] .colab-df-convert {\n",
              "      background-color: #3B4455;\n",
              "      fill: #D2E3FC;\n",
              "    }\n",
              "\n",
              "    [theme=dark] .colab-df-convert:hover {\n",
              "      background-color: #434B5C;\n",
              "      box-shadow: 0px 1px 3px 1px rgba(0, 0, 0, 0.15);\n",
              "      filter: drop-shadow(0px 1px 2px rgba(0, 0, 0, 0.3));\n",
              "      fill: #FFFFFF;\n",
              "    }\n",
              "  </style>\n",
              "\n",
              "    <script>\n",
              "      const buttonEl =\n",
              "        document.querySelector('#df-0cacae0f-8fab-4bf6-9bfd-ba9cf477d3e4 button.colab-df-convert');\n",
              "      buttonEl.style.display =\n",
              "        google.colab.kernel.accessAllowed ? 'block' : 'none';\n",
              "\n",
              "      async function convertToInteractive(key) {\n",
              "        const element = document.querySelector('#df-0cacae0f-8fab-4bf6-9bfd-ba9cf477d3e4');\n",
              "        const dataTable =\n",
              "          await google.colab.kernel.invokeFunction('convertToInteractive',\n",
              "                                                    [key], {});\n",
              "        if (!dataTable) return;\n",
              "\n",
              "        const docLinkHtml = 'Like what you see? Visit the ' +\n",
              "          '<a target=\"_blank\" href=https://colab.research.google.com/notebooks/data_table.ipynb>data table notebook</a>'\n",
              "          + ' to learn more about interactive tables.';\n",
              "        element.innerHTML = '';\n",
              "        dataTable['output_type'] = 'display_data';\n",
              "        await google.colab.output.renderOutput(dataTable, element);\n",
              "        const docLink = document.createElement('div');\n",
              "        docLink.innerHTML = docLinkHtml;\n",
              "        element.appendChild(docLink);\n",
              "      }\n",
              "    </script>\n",
              "  </div>\n",
              "\n",
              "\n",
              "<div id=\"df-940a2340-11c8-4097-bff8-0f6bbef8a3f6\">\n",
              "  <button class=\"colab-df-quickchart\" onclick=\"quickchart('df-940a2340-11c8-4097-bff8-0f6bbef8a3f6')\"\n",
              "            title=\"Suggest charts\"\n",
              "            style=\"display:none;\">\n",
              "\n",
              "<svg xmlns=\"http://www.w3.org/2000/svg\" height=\"24px\"viewBox=\"0 0 24 24\"\n",
              "     width=\"24px\">\n",
              "    <g>\n",
              "        <path d=\"M19 3H5c-1.1 0-2 .9-2 2v14c0 1.1.9 2 2 2h14c1.1 0 2-.9 2-2V5c0-1.1-.9-2-2-2zM9 17H7v-7h2v7zm4 0h-2V7h2v10zm4 0h-2v-4h2v4z\"/>\n",
              "    </g>\n",
              "</svg>\n",
              "  </button>\n",
              "\n",
              "<style>\n",
              "  .colab-df-quickchart {\n",
              "      --bg-color: #E8F0FE;\n",
              "      --fill-color: #1967D2;\n",
              "      --hover-bg-color: #E2EBFA;\n",
              "      --hover-fill-color: #174EA6;\n",
              "      --disabled-fill-color: #AAA;\n",
              "      --disabled-bg-color: #DDD;\n",
              "  }\n",
              "\n",
              "  [theme=dark] .colab-df-quickchart {\n",
              "      --bg-color: #3B4455;\n",
              "      --fill-color: #D2E3FC;\n",
              "      --hover-bg-color: #434B5C;\n",
              "      --hover-fill-color: #FFFFFF;\n",
              "      --disabled-bg-color: #3B4455;\n",
              "      --disabled-fill-color: #666;\n",
              "  }\n",
              "\n",
              "  .colab-df-quickchart {\n",
              "    background-color: var(--bg-color);\n",
              "    border: none;\n",
              "    border-radius: 50%;\n",
              "    cursor: pointer;\n",
              "    display: none;\n",
              "    fill: var(--fill-color);\n",
              "    height: 32px;\n",
              "    padding: 0;\n",
              "    width: 32px;\n",
              "  }\n",
              "\n",
              "  .colab-df-quickchart:hover {\n",
              "    background-color: var(--hover-bg-color);\n",
              "    box-shadow: 0 1px 2px rgba(60, 64, 67, 0.3), 0 1px 3px 1px rgba(60, 64, 67, 0.15);\n",
              "    fill: var(--button-hover-fill-color);\n",
              "  }\n",
              "\n",
              "  .colab-df-quickchart-complete:disabled,\n",
              "  .colab-df-quickchart-complete:disabled:hover {\n",
              "    background-color: var(--disabled-bg-color);\n",
              "    fill: var(--disabled-fill-color);\n",
              "    box-shadow: none;\n",
              "  }\n",
              "\n",
              "  .colab-df-spinner {\n",
              "    border: 2px solid var(--fill-color);\n",
              "    border-color: transparent;\n",
              "    border-bottom-color: var(--fill-color);\n",
              "    animation:\n",
              "      spin 1s steps(1) infinite;\n",
              "  }\n",
              "\n",
              "  @keyframes spin {\n",
              "    0% {\n",
              "      border-color: transparent;\n",
              "      border-bottom-color: var(--fill-color);\n",
              "      border-left-color: var(--fill-color);\n",
              "    }\n",
              "    20% {\n",
              "      border-color: transparent;\n",
              "      border-left-color: var(--fill-color);\n",
              "      border-top-color: var(--fill-color);\n",
              "    }\n",
              "    30% {\n",
              "      border-color: transparent;\n",
              "      border-left-color: var(--fill-color);\n",
              "      border-top-color: var(--fill-color);\n",
              "      border-right-color: var(--fill-color);\n",
              "    }\n",
              "    40% {\n",
              "      border-color: transparent;\n",
              "      border-right-color: var(--fill-color);\n",
              "      border-top-color: var(--fill-color);\n",
              "    }\n",
              "    60% {\n",
              "      border-color: transparent;\n",
              "      border-right-color: var(--fill-color);\n",
              "    }\n",
              "    80% {\n",
              "      border-color: transparent;\n",
              "      border-right-color: var(--fill-color);\n",
              "      border-bottom-color: var(--fill-color);\n",
              "    }\n",
              "    90% {\n",
              "      border-color: transparent;\n",
              "      border-bottom-color: var(--fill-color);\n",
              "    }\n",
              "  }\n",
              "</style>\n",
              "\n",
              "  <script>\n",
              "    async function quickchart(key) {\n",
              "      const quickchartButtonEl =\n",
              "        document.querySelector('#' + key + ' button');\n",
              "      quickchartButtonEl.disabled = true;  // To prevent multiple clicks.\n",
              "      quickchartButtonEl.classList.add('colab-df-spinner');\n",
              "      try {\n",
              "        const charts = await google.colab.kernel.invokeFunction(\n",
              "            'suggestCharts', [key], {});\n",
              "      } catch (error) {\n",
              "        console.error('Error during call to suggestCharts:', error);\n",
              "      }\n",
              "      quickchartButtonEl.classList.remove('colab-df-spinner');\n",
              "      quickchartButtonEl.classList.add('colab-df-quickchart-complete');\n",
              "    }\n",
              "    (() => {\n",
              "      let quickchartButtonEl =\n",
              "        document.querySelector('#df-940a2340-11c8-4097-bff8-0f6bbef8a3f6 button');\n",
              "      quickchartButtonEl.style.display =\n",
              "        google.colab.kernel.accessAllowed ? 'block' : 'none';\n",
              "    })();\n",
              "  </script>\n",
              "</div>\n",
              "    </div>\n",
              "  </div>\n"
            ],
            "application/vnd.google.colaboratory.intrinsic+json": {
              "type": "dataframe",
              "variable_name": "df_pd"
            }
          },
          "metadata": {},
          "execution_count": 35
        }
      ]
    },
    {
      "cell_type": "markdown",
      "source": [
        "### проверка нормальности распределений"
      ],
      "metadata": {
        "id": "pugYmPFKOrU7"
      }
    },
    {
      "cell_type": "code",
      "source": [
        "# 1. number of switches\n",
        "plt.hist(df_healthy['Switch_number_tokens'], bins=50)\n",
        "plt.show()"
      ],
      "metadata": {
        "colab": {
          "base_uri": "https://localhost:8080/",
          "height": 430
        },
        "id": "2yfPZkJeWeGl",
        "outputId": "6b7ad509-8ce9-4b64-f7f8-56bf0b07b406"
      },
      "execution_count": null,
      "outputs": [
        {
          "output_type": "display_data",
          "data": {
            "text/plain": [
              "<Figure size 640x480 with 1 Axes>"
            ],
            "image/png": "[encoded data removed]"
          },
          "metadata": {}
        }
      ]
    },
    {
      "cell_type": "code",
      "source": [
        "# 2. cluster size\n",
        "plt.hist(df_healthy['Mean_cluster_size_tokens'], bins=50)\n",
        "plt.show()"
      ],
      "metadata": {
        "colab": {
          "base_uri": "https://localhost:8080/",
          "height": 430
        },
        "id": "bV3XDhhpW1lf",
        "outputId": "afeebbd2-c0fe-4dfc-9b79-46d2285f8929"
      },
      "execution_count": null,
      "outputs": [
        {
          "output_type": "display_data",
          "data": {
            "text/plain": [
              "<Figure size 640x480 with 1 Axes>"
            ],
            "image/png": "[encoded data removed]"
          },
          "metadata": {}
        }
      ]
    },
    {
      "cell_type": "code",
      "source": [
        "# 3. distance\n",
        "plt.hist(df_healthy['Mean_distance_tokens'], bins=50)\n",
        "plt.show()"
      ],
      "metadata": {
        "colab": {
          "base_uri": "https://localhost:8080/",
          "height": 430
        },
        "id": "bzIu7gltW_fZ",
        "outputId": "dcdedb69-15ba-4706-e3cb-902012f3e59a"
      },
      "execution_count": null,
      "outputs": [
        {
          "output_type": "display_data",
          "data": {
            "text/plain": [
              "<Figure size 640x480 with 1 Axes>"
            ],
            "image/png": "[encoded data removed]"
          },
          "metadata": {}
        }
      ]
    },
    {
      "cell_type": "code",
      "source": [
        "# 4. silhouette score\n",
        "plt.hist(df_healthy['Silhouette_score_tokens'], bins=300)\n",
        "plt.xlim([-0.5, 0.6])"
      ],
      "metadata": {
        "colab": {
          "base_uri": "https://localhost:8080/",
          "height": 447
        },
        "id": "Cda69rw1XLc2",
        "outputId": "9e326ebc-8e19-4ffe-80e1-b1072b35c203"
      },
      "execution_count": null,
      "outputs": [
        {
          "output_type": "execute_result",
          "data": {
            "text/plain": [
              "(-0.5, 0.6)"
            ]
          },
          "metadata": {},
          "execution_count": 39
        },
        {
          "output_type": "display_data",
          "data": {
            "text/plain": [
              "<Figure size 640x480 with 1 Axes>"
            ],
            "image/png": "[encoded data removed]"
          },
          "metadata": {}
        }
      ]
    },
    {
      "cell_type": "code",
      "source": [
        "# 5. t-score\n",
        "plt.hist(df_healthy['Mean_cluster_t_score_tokens'], bins=50)\n",
        "plt.show()"
      ],
      "metadata": {
        "colab": {
          "base_uri": "https://localhost:8080/",
          "height": 430
        },
        "id": "vQ4zocOpZeBV",
        "outputId": "d527b6bc-c11a-4634-fbc0-0132afc661f3"
      },
      "execution_count": null,
      "outputs": [
        {
          "output_type": "display_data",
          "data": {
            "text/plain": [
              "<Figure size 640x480 with 1 Axes>"
            ],
            "image/png": "[encoded data removed]"
          },
          "metadata": {}
        }
      ]
    },
    {
      "cell_type": "markdown",
      "source": [
        "### проверка статистической значимости"
      ],
      "metadata": {
        "id": "JU3dcEgSXeXQ"
      }
    },
    {
      "cell_type": "code",
      "source": [
        "# 1. number of switches\n",
        "# распределения неизвестны, поэтому берём критерий U-Манна Уитни\n",
        "# H0 - выборки взяты из одного и того же распределения\n",
        "\n",
        "u_test, p = mannwhitneyu(df_healthy['Switch_number_tokens'], df_pd['Switch_number_tokens'], nan_policy='omit')\n",
        "print(f'statistic: {u_test}, p-value: {p}')\n",
        "\n",
        "alpha = 0.05\n",
        "if p > alpha:\n",
        "    print('Same distributions (H0)')\n",
        "else:\n",
        "    print('Different distributions (reject H0)')"
      ],
      "metadata": {
        "id": "cV7cikflXdPl",
        "colab": {
          "base_uri": "https://localhost:8080/"
        },
        "outputId": "bc5ef147-240e-485d-c63d-5742681168b1"
      },
      "execution_count": null,
      "outputs": [
        {
          "output_type": "stream",
          "name": "stdout",
          "text": [
            "statistic: 26086.0, p-value: 6.747075207668067e-12\n",
            "Different distributions (reject H0)\n"
          ]
        }
      ]
    },
    {
      "cell_type": "code",
      "source": [
        "# 2. cluster size\n",
        "# распределения известны, нормальны, поэтому берём t-критерий Стьюдента\n",
        "# H0 - средние выборок равны\n",
        "\n",
        "ttest, p = ttest_ind(df_healthy['Mean_cluster_size_tokens'], df_pd['Mean_cluster_size_tokens'], nan_policy='omit')\n",
        "print(f'statistic: {ttest}, p-value: {p}')\n",
        "\n",
        "alpha = 0.05\n",
        "if p > alpha:\n",
        "    print('Same distributions (H0)')\n",
        "else:\n",
        "    print('Different distributions (reject H0)')"
      ],
      "metadata": {
        "colab": {
          "base_uri": "https://localhost:8080/"
        },
        "id": "QJKXHZMCme7z",
        "outputId": "b370c610-6547-4342-ef5a-46d343e5bf6f"
      },
      "execution_count": null,
      "outputs": [
        {
          "output_type": "stream",
          "name": "stdout",
          "text": [
            "statistic: 4.853105119392563, p-value: 1.572550029955769e-06\n",
            "Different distributions (reject H0)\n"
          ]
        }
      ]
    },
    {
      "cell_type": "code",
      "source": [
        "# 3. distance\n",
        "# распределения известны, нормальны, поэтому берём t-критерий Стьюдента\n",
        "# H0 - средние выборок равны\n",
        "\n",
        "ttest, p = ttest_ind(df_healthy['Mean_distance_tokens'], df_pd['Mean_distance_tokens'], nan_policy='omit')\n",
        "print(f'statistic: {ttest}, p-value: {p}')\n",
        "\n",
        "alpha = 0.05\n",
        "if p > alpha:\n",
        "    print('Same distributions (H0)')\n",
        "else:\n",
        "    print('Different distributions (reject H0)')"
      ],
      "metadata": {
        "colab": {
          "base_uri": "https://localhost:8080/"
        },
        "id": "g_PNtANPnEg1",
        "outputId": "9f6dd8a8-97e0-44a7-c3a7-e1aca4daa849"
      },
      "execution_count": null,
      "outputs": [
        {
          "output_type": "stream",
          "name": "stdout",
          "text": [
            "statistic: -5.1360865278815435, p-value: 3.8610849103148997e-07\n",
            "Different distributions (reject H0)\n"
          ]
        }
      ]
    },
    {
      "cell_type": "code",
      "source": [
        "# 4. silhouette score\n",
        "# распределения известны, нормальны, поэтому берём t-критерий Стьюдента\n",
        "# H0 - средние выборок равны\n",
        "\n",
        "ttest, p = ttest_ind(df_healthy['Silhouette_score_tokens'], df_pd['Silhouette_score_tokens'], nan_policy='omit')\n",
        "print(f'statistic: {ttest}, p-value: {p}')\n",
        "\n",
        "alpha = 0.05\n",
        "if p > alpha:\n",
        "    print('Same distributions (H0)')\n",
        "else:\n",
        "    print('Different distributions (reject H0)')"
      ],
      "metadata": {
        "colab": {
          "base_uri": "https://localhost:8080/"
        },
        "id": "UdoMfGoJnToU",
        "outputId": "3327bb5a-2c4f-4a6f-fdef-562fa78fe8f5"
      },
      "execution_count": null,
      "outputs": [
        {
          "output_type": "stream",
          "name": "stdout",
          "text": [
            "statistic: 0.34285724722795646, p-value: 0.7318327035185073\n",
            "Same distributions (H0)\n"
          ]
        }
      ]
    },
    {
      "cell_type": "code",
      "source": [
        "# 5. t-score\n",
        "# распределения неизвестны, поэтому берём критерий U-Манна Уитни\n",
        "# H0 - выборки взяты из одного и того же распределения\n",
        "\n",
        "u_test, p = mannwhitneyu(df_healthy['Mean_cluster_t_score_tokens'], df_pd['Mean_cluster_t_score_tokens'], nan_policy='omit')\n",
        "print(f'statistic: {u_test}, p-value: {p}')\n",
        "\n",
        "alpha = 0.05\n",
        "if p > alpha:\n",
        "    print('Same distributions (H0)')\n",
        "else:\n",
        "    print('Different distributions (reject H0)')"
      ],
      "metadata": {
        "colab": {
          "base_uri": "https://localhost:8080/"
        },
        "id": "lOXyuTQXoRJ_",
        "outputId": "bafaef12-3842-4af2-8fce-94a8d493e9e9"
      },
      "execution_count": null,
      "outputs": [
        {
          "output_type": "stream",
          "name": "stdout",
          "text": [
            "statistic: 29187.0, p-value: 1.6944015195136315e-20\n",
            "Different distributions (reject H0)\n"
          ]
        }
      ]
    }
  ]
}